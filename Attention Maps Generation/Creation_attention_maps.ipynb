{
  "nbformat": 4,
  "nbformat_minor": 0,
  "metadata": {
    "colab": {
      "provenance": [],
      "collapsed_sections": [
        "YMhHJcKR0cRE",
        "60NvwR7LgAIp",
        "soG7ZEOBmaZ0",
        "izvKKu5ZD6M5",
        "IjFNfD6wUb6Y",
        "DIks7IwawPva",
        "G8xtR82EbhRl",
        "gcrkm2KwbnqH",
        "duURPyzGvNY2",
        "LiNo_IchPQFD"
      ],
      "toc_visible": true,
      "include_colab_link": true
    },
    "kernelspec": {
      "display_name": "Python 3",
      "name": "python3"
    },
    "language_info": {
      "name": "python"
    }
  },
  "cells": [
    {
      "cell_type": "markdown",
      "metadata": {
        "id": "view-in-github",
        "colab_type": "text"
      },
      "source": [
        "<a href=\"https://colab.research.google.com/github/AnonymousAlzheimersGaze/Eye-Gaze-Alzheimers-Paper/blob/main/Attention%20Maps%20Generation/Creation_attention_maps.ipynb\" target=\"_parent\"><img src=\"https://colab.research.google.com/assets/colab-badge.svg\" alt=\"Open In Colab\"/></a>"
      ]
    },
    {
      "cell_type": "markdown",
      "source": [
        "Author: Carlos Antunes (2022)\n",
        "\n",
        "- Load dataframes\n",
        "- Create location and duration based attention maps for each scan\n",
        "- Create average attention maps"
      ],
      "metadata": {
        "id": "fWDdafjzdm3v"
      }
    },
    {
      "cell_type": "markdown",
      "metadata": {
        "id": "YMhHJcKR0cRE"
      },
      "source": [
        "# Imports and Google Drive mount"
      ]
    },
    {
      "cell_type": "code",
      "metadata": {
        "id": "QUI8B5C7agK7",
        "colab": {
          "base_uri": "https://localhost:8080/"
        },
        "outputId": "9e942a4d-bc0f-452b-ae6e-86df2ebc7f92"
      },
      "source": [
        "# Install a pip package in the current Jupyter kernel\n",
        "import sys\n",
        "!{sys.executable} -m pip install mat73"
      ],
      "execution_count": null,
      "outputs": [
        {
          "output_type": "stream",
          "name": "stdout",
          "text": [
            "Looking in indexes: https://pypi.org/simple, https://us-python.pkg.dev/colab-wheels/public/simple/\n",
            "Collecting mat73\n",
            "  Downloading mat73-0.59-py3-none-any.whl (19 kB)\n",
            "Requirement already satisfied: numpy in /usr/local/lib/python3.7/dist-packages (from mat73) (1.21.6)\n",
            "Requirement already satisfied: h5py in /usr/local/lib/python3.7/dist-packages (from mat73) (3.1.0)\n",
            "Requirement already satisfied: cached-property in /usr/local/lib/python3.7/dist-packages (from h5py->mat73) (1.5.2)\n",
            "Installing collected packages: mat73\n",
            "Successfully installed mat73-0.59\n"
          ]
        }
      ]
    },
    {
      "cell_type": "code",
      "metadata": {
        "id": "emALcvf3CiD0"
      },
      "source": [
        "from google.colab import drive, files # to use Google Drive\n",
        "import mat73\n",
        "import numpy as np\n",
        "import matplotlib.pyplot as plt # to plot\n",
        "from scipy.io import loadmat # to load matlab files\n",
        "from scipy.stats import gaussian_kde\n",
        "import h5py # to load matlab files v7.3\n",
        "import pandas as pd\n",
        "from functools import reduce\n",
        "import copy\n",
        "from scipy.ndimage import gaussian_filter"
      ],
      "execution_count": null,
      "outputs": []
    },
    {
      "cell_type": "code",
      "metadata": {
        "id": "FvthuuX7qg4r",
        "colab": {
          "base_uri": "https://localhost:8080/"
        },
        "outputId": "22eff874-8c7c-4735-d5c0-6fce0aea1af2"
      },
      "source": [
        "drive.flush_and_unmount()\n",
        "drive.mount('/content/drive/') # connect to Google Drive\n",
        "root_path = '/content/drive/My Drive/dataset' # change directory to my Google Drive"
      ],
      "execution_count": null,
      "outputs": [
        {
          "output_type": "stream",
          "name": "stdout",
          "text": [
            "Drive not mounted, so nothing to flush and unmount.\n",
            "Mounted at /content/drive/\n"
          ]
        }
      ]
    },
    {
      "cell_type": "markdown",
      "source": [
        "# Load Dataframes"
      ],
      "metadata": {
        "id": "60NvwR7LgAIp"
      }
    },
    {
      "cell_type": "code",
      "source": [
        "nc_allData = pd.read_pickle(\"/content/drive/My Drive/dataset/pandas_dataframes/nc_allData.pkl\")\n",
        "mci_allData = pd.read_pickle(\"/content/drive/My Drive/dataset/pandas_dataframes/mci_allData.pkl\")\n",
        "ad_allData = pd.read_pickle(\"/content/drive/My Drive/dataset/pandas_dataframes/ad_allData.pkl\")"
      ],
      "metadata": {
        "id": "LKdRHGS1gx3u"
      },
      "execution_count": null,
      "outputs": []
    },
    {
      "cell_type": "markdown",
      "source": [
        "# Visualization Scans"
      ],
      "metadata": {
        "id": "soG7ZEOBmaZ0"
      }
    },
    {
      "cell_type": "markdown",
      "source": [
        "Auxilary function to transform from 2D coordinates to 1D and vice versa"
      ],
      "metadata": {
        "id": "trCn_sDfDZtP"
      }
    },
    {
      "cell_type": "code",
      "source": [
        "def coordinates_transform(point_vector_form):\n",
        "  fixation_image = np.zeros(128*128)\n",
        "  fixation_image[point_vector_form] = 1\n",
        "  fixation_image = fixation_image.reshape(128, 128)\n",
        "  coord_point = np.nonzero(fixation_image)\n",
        "  return coord_point\n",
        "\n",
        "def coordinates_untransform(point_x, point_y):\n",
        "  if 0 <= point_x <= 127 and 0 <= point_y <= 127: \n",
        "    pt = 128*point_x+point_y\n",
        "    return pt\n",
        "  else:\n",
        "    return False"
      ],
      "metadata": {
        "id": "HlKr8sQMDYAt"
      },
      "execution_count": null,
      "outputs": []
    },
    {
      "cell_type": "markdown",
      "source": [
        "Plot a scan"
      ],
      "metadata": {
        "id": "vCBrgzJrXZwJ"
      }
    },
    {
      "cell_type": "code",
      "source": [
        "# plot the scan\n",
        "def show_scan_plot(scan, slice_nr):\n",
        "  one_slice_2d = scan[:,:,slice_nr] # array with one slice of a single patient\n",
        "  plt.imshow(one_slice_2d, cmap='jet')\n",
        "  plt.colorbar()"
      ],
      "metadata": {
        "id": "kNjeuI3lXTvc"
      },
      "execution_count": null,
      "outputs": []
    },
    {
      "cell_type": "markdown",
      "source": [
        "Plot a slice of a scan with the corresponding fixations on top"
      ],
      "metadata": {
        "id": "QBl8EeFEmY-2"
      }
    },
    {
      "cell_type": "code",
      "source": [
        "# plot the fixations on top of the scan\n",
        "def show_scan_with_fixations(allData, slice_nr, scan_index, save):\n",
        "\n",
        "  if allData.at[scan_index, 'Has Fix'] == 0 or allData.at[scan_index, 'Fixations'][slice_nr] == []: \n",
        "    print(\"There are no fixations for slice number \", slice_nr, \" of scan on row \", scan_index)\n",
        "    return\n",
        "\n",
        "  print(\"Subject \", allData.at[scan_index, 'Subject ID'])\n",
        "  print(\"Fixation points \", allData.at[scan_index, 'Durations'][slice_nr])\n",
        "\n",
        "  one_slice_2d = copy.deepcopy(allData.at[scan_index, 'Scan'][:,:,slice_nr]) # array with one slice of a single patient\n",
        "  \n",
        "  plt.imshow(one_slice_2d, cmap='jet')\n",
        "  plt.colorbar()\n",
        "\n",
        "  locations = allData.at[scan_index, 'Fixations'][slice_nr]\n",
        "  coord = coordinates_transform(locations)\n",
        "  plt.scatter(coord[0], coord[1])\n",
        "  \n",
        "  if save == \"save\":\n",
        "    plt.savefig(f\"/content/drive/My Drive/plots/scan_fixations_{allData.at[scan_index, 'Class']}_{slice_nr}_{allData.at[scan_index, 'Subject ID']}.pdf\", \n",
        "              bbox_inches =\"tight\")\n",
        "  \n",
        "  #plt.show() "
      ],
      "metadata": {
        "id": "DgLL9gtxmVqX"
      },
      "execution_count": null,
      "outputs": []
    },
    {
      "cell_type": "markdown",
      "source": [
        "# Location based attention maps"
      ],
      "metadata": {
        "id": "DQWRye3rgNfi"
      }
    },
    {
      "cell_type": "code",
      "source": [
        "def create_location_AM(allData):\n",
        "  total_scans_fixations = 59\n",
        "  nr_scan_fixation = -1\n",
        "  scan_index_save = []\n",
        "  smooth_map = np.empty((total_scans_fixations,128,128,60))\n",
        "  cmap = plt.get_cmap('viridis')\n",
        "\n",
        "  # iterate over every scan\n",
        "  for scan_index in range(allData.shape[0]):\n",
        "    print(\"Subject \", allData.at[scan_index, 'Subject ID'])\n",
        "\n",
        "    # if scan does not have any fixation points, skip\n",
        "    if allData.at[scan_index, 'Has Fix'] == 0:\n",
        "      continue\n",
        "\n",
        "    scan_index_save.append(scan_index)\n",
        "    nr_scan_fixation += 1\n",
        "\n",
        "    # iterate over every axial slice of a scan with fixations\n",
        "    for slice_nr in range(60):\n",
        "      # if this slice has fixation points\n",
        "      if len(allData.at[scan_index, 'Durations'][slice_nr]):\n",
        "        \n",
        "        locations = allData.at[scan_index, 'Fixations'][slice_nr]\n",
        "        fix = np.zeros(128*128)\n",
        "        fix[locations] = 1\n",
        "        fix = fix.reshape(128, 128)\n",
        "\n",
        "        # create and add the attention map of this slice to a 3D array\n",
        "        smooth_map[nr_scan_fixation,:,:,slice_nr] = gaussian_filter(fix, sigma=3).transpose()\n",
        "\n",
        "        # visualize the attention map\n",
        "        # cmap = plt.get_cmap('viridis')\n",
        "        # plt.imshow(smooth_map[:,:,slice_nr], cmap=cmap)\n",
        "        # plt.colorbar()\n",
        "        # plt.show()\n",
        "      else:\n",
        "        smooth_map[nr_scan_fixation,:,:,slice_nr] = np.zeros((128,128))\n",
        "\n",
        "    print(np.max(smooth_map[nr_scan_fixation,:,:,:]))\n",
        "    smooth_map[nr_scan_fixation,:,:,:] = smooth_map[nr_scan_fixation,:,:,:] / np.max(smooth_map[nr_scan_fixation,:,:,:])\n",
        "\n",
        "    for slice_nr in range(60):\n",
        "      # if the slice has fixations\n",
        "      if len(allData.at[scan_index, 'Durations'][slice_nr]):\n",
        "        print(\"slice_nr \", slice_nr)\n",
        "        show_scan_with_fixations(allData, slice_nr, scan_index, \"not save\") # plot scan with fixations\n",
        "        plt.show()\n",
        "        plt.imshow(smooth_map[nr_scan_fixation,:,:,slice_nr], cmap=cmap) # plot saliency map\n",
        "        plt.clim(0, 1)\n",
        "        plt.colorbar()\n",
        "        plt.show()\n",
        "\n",
        "    np.save(root_path + \"/attention_maps/Location_based/\"+str(allData.at[scan_index, 'Scan ID'])+\".npy\", np.array(smooth_map[nr_scan_fixation,:,:,:]))\n",
        "\n",
        "  # print all slices of scans with fixations and its attention map\n",
        "  #m = np.max(smooth_map)\n",
        "  #smooth_map = smooth_map / m # normalize map\n",
        "\n",
        "  # cmap = plt.get_cmap('viridis')\n",
        "  # for scan_index, scan_index_fix in zip(scan_index_save, range(total_scans_fixations)):\n",
        "  #   for slice_nr in range(60):\n",
        "  #     # if the slice has fixations\n",
        "  #     if len(allData.at[scan_index, 'Durations'][slice_nr]):\n",
        "  #       print(\"slice_nr \", slice_nr)\n",
        "  #       show_scan_with_fixations(allData, slice_nr, scan_index, \"not save\") # plot scan with fixations\n",
        "  #       plt.show()\n",
        "  #       plt.imshow(smooth_map[scan_index_fix,:,:,slice_nr], cmap=cmap) # plot saliency map\n",
        "  #       plt.clim(0, 1)\n",
        "  #       plt.colorbar()\n",
        "  #       plt.show()\n",
        "\n",
        "    #np.save(root_path + \"/attention_maps/Location_based/\"+str(allData.at[scan_index, 'Scan ID']), np.array(smooth_map[scan_index_fix]))"
      ],
      "metadata": {
        "id": "7kOJPVGLknKy"
      },
      "execution_count": null,
      "outputs": []
    },
    {
      "cell_type": "code",
      "source": [
        "create_location_AM(nc_allData)"
      ],
      "metadata": {
        "colab": {
          "base_uri": "https://localhost:8080/",
          "height": 1000
        },
        "id": "bF2sVC33I-WX",
        "outputId": "15eb6fa5-dd29-4dd5-c11c-584847fc2189"
      },
      "execution_count": null,
      "outputs": []
    },
    {
      "cell_type": "code",
      "source": [
        "create_location_AM(mci_allData)"
      ],
      "metadata": {
        "colab": {
          "base_uri": "https://localhost:8080/",
          "height": 1000
        },
        "id": "eRV-DsrH28T3",
        "outputId": "3b51bf2a-6d24-4f43-f2ca-979fe58b6f20"
      },
      "execution_count": null,
      "outputs": []
    },
    {
      "cell_type": "code",
      "source": [
        "create_location_AM(ad_allData)"
      ],
      "metadata": {
        "colab": {
          "base_uri": "https://localhost:8080/",
          "height": 1000
        },
        "id": "ebgxbYlj2-DM",
        "outputId": "f8b1d115-ac57-40d4-9f8f-31d57137f034"
      },
      "execution_count": null,
      "outputs": []
    },
    {
      "cell_type": "markdown",
      "source": [
        "# Duration based attention maps"
      ],
      "metadata": {
        "id": "izvKKu5ZD6M5"
      }
    },
    {
      "cell_type": "code",
      "source": [
        "def create_duration_AM(allData):\n",
        "  total_scans_fixations = 59\n",
        "  nr_scan_fixation = -1\n",
        "  scan_index_save = []\n",
        "  cmap = plt.get_cmap('viridis')\n",
        "  smooth_map = np.empty((total_scans_fixations,128,128,60))\n",
        "  # iterate over every scan\n",
        "  for scan_index in range(allData.shape[0]):\n",
        "    print(\"Subject \", allData.at[scan_index, 'Subject ID'])\n",
        "\n",
        "    if allData.at[scan_index, 'Has Fix'] == 0:\n",
        "      continue\n",
        "\n",
        "    scan_index_save.append(scan_index)\n",
        "    nr_scan_fixation += 1\n",
        "    # iterate over every axial slice of a scan with fixations\n",
        "    for slice_nr in range(60):\n",
        "      # if this slice has fixation points\n",
        "      if len(allData.at[scan_index, 'Durations'][slice_nr]):\n",
        "        \n",
        "        # iterate over every point\n",
        "        fix = np.zeros((128,128))\n",
        "        for point in allData.at[scan_index, 'Durations'][slice_nr]:\n",
        "          fix[point[0]][point[1]] = point[2]\n",
        "\n",
        "        # create and add the attention map of this slice to a 3D array\n",
        "        smooth_map[nr_scan_fixation,:,:,slice_nr] = gaussian_filter(fix, sigma=3).transpose()\n",
        "\n",
        "      else:\n",
        "        smooth_map[nr_scan_fixation,:,:,slice_nr] = np.zeros((128,128))\n",
        "\n",
        "    smooth_map[nr_scan_fixation,:,:,:] = smooth_map[nr_scan_fixation,:,:,:] / np.max(smooth_map[nr_scan_fixation,:,:,:])\n",
        "\n",
        "    for slice_nr in range(60):\n",
        "      # if the slice has fixations\n",
        "      if len(allData.at[scan_index, 'Durations'][slice_nr]):\n",
        "        print(\"slice_nr \", slice_nr)\n",
        "        show_scan_with_fixations(allData, slice_nr, scan_index, \"not save\") # plot scan with fixations\n",
        "        plt.show()\n",
        "        plt.imshow(smooth_map[nr_scan_fixation,:,:,slice_nr], cmap=cmap) # plot saliency map\n",
        "        plt.clim(0, 1)\n",
        "        plt.colorbar()\n",
        "        plt.show()\n",
        "\n",
        "    np.save(root_path + \"/attention_maps/Duration_based/\"+str(allData.at[scan_index, 'Scan ID'])+\".npy\", np.array(smooth_map[nr_scan_fixation,:,:,:]))\n",
        "\n",
        "  # m = np.max(smooth_map)\n",
        "  # smooth_map = smooth_map / m\n",
        "  # cmap = plt.get_cmap('viridis')\n",
        "  # for scan_index, scan_index_fix in zip(scan_index_save, range(total_scans_fixations)):\n",
        "  #   for slice_nr in range(60):\n",
        "  #     if len(allData.at[scan_index, 'Durations'][slice_nr]):\n",
        "  #       print(\"slice_nr \", slice_nr)\n",
        "  #       show_scan_with_fixations(allData, slice_nr, scan_index, \"not save\")\n",
        "  #       plt.show()\n",
        "  #       plt.imshow(smooth_map[scan_index_fix,:,:,slice_nr], cmap=cmap)\n",
        "  #       plt.clim(0, 1)\n",
        "  #       plt.colorbar()\n",
        "  #       plt.show()\n",
        "  #   np.save(root_path + \"/attention_maps/Duration_based/\"+str(allData.at[scan_index, 'Scan ID']), np.array(smooth_map[scan_index_fix]))"
      ],
      "metadata": {
        "id": "LKk52lBXSklw"
      },
      "execution_count": null,
      "outputs": []
    },
    {
      "cell_type": "code",
      "source": [
        "create_duration_AM(nc_allData)"
      ],
      "metadata": {
        "colab": {
          "base_uri": "https://localhost:8080/"
        },
        "id": "mnmmo2xkD7pA",
        "outputId": "cde6d79f-eccc-468f-c3eb-573e8595046a"
      },
      "execution_count": null,
      "outputs": []
    },
    {
      "cell_type": "code",
      "source": [
        "create_duration_AM(mci_allData)"
      ],
      "metadata": {
        "colab": {
          "base_uri": "https://localhost:8080/"
        },
        "id": "uYo7LE-9B69s",
        "outputId": "6c1b78d0-8987-4fb5-bdd9-8056a18eded8"
      },
      "execution_count": null,
      "outputs": []
    },
    {
      "cell_type": "code",
      "source": [
        "create_duration_AM(ad_allData)"
      ],
      "metadata": {
        "colab": {
          "base_uri": "https://localhost:8080/"
        },
        "id": "hCXUO92-S_cg",
        "outputId": "c9d8273b-2c28-4812-fd3e-7aaad49f6beb"
      },
      "execution_count": null,
      "outputs": []
    },
    {
      "cell_type": "markdown",
      "source": [
        "# Constant average attention map"
      ],
      "metadata": {
        "id": "IjFNfD6wUb6Y"
      }
    },
    {
      "cell_type": "code",
      "source": [
        "def add_am(allData, type):\n",
        "  fixed_map = np.zeros((128,128,60))\n",
        "  for scan_index in range(allData.shape[0]):\n",
        "    if allData.at[scan_index, 'Has Fix'] == 1:\n",
        "      attention_map = np.load(root_path + '/attention_maps/'+type+'/' + str(allData.at[scan_index, 'Scan ID']) + '.npy')\n",
        "      fixed_map += attention_map\n",
        "  return fixed_map\n",
        "\n",
        "def normalized_fixation_map(fixed_map):\n",
        "  m = np.max(fixed_map)\n",
        "  return fixed_map / m\n",
        "\n",
        "def plot_save_fixation_map(fixed_map, classes, type):\n",
        "  # cmap = plt.get_cmap('viridis')\n",
        "  # for slice_nr in range(60):\n",
        "  #   print(\"slice_nr \", slice_nr)\n",
        "  #   plt.imshow(fixed_map[:,:,slice_nr], cmap=cmap)\n",
        "  #   plt.clim(0, 1)\n",
        "  #   plt.colorbar()\n",
        "  #   plt.show()\n",
        "  np.save(root_path + \"/attention_maps/Avg_attention/\"+type+\"_\"+classes, np.array(fixed_map))\n",
        "\n",
        "def create_fixed_AM(nc_allData, ad_allData, mci_allData, type):\n",
        "  nc_fixed_map = np.zeros((128,128,60))\n",
        "  ad_fixed_map = np.zeros((128,128,60))\n",
        "  mci_fixed_map = np.zeros((128,128,60))\n",
        "\n",
        "  nc_fixed_map = add_am(nc_allData, type)\n",
        "  nc_fixed_map = normalized_fixation_map(nc_fixed_map)\n",
        "  plot_save_fixation_map(nc_fixed_map, \"NC\", type)\n",
        "\n",
        "  ad_fixed_map = add_am(ad_allData, type)\n",
        "  ad_fixed_map = normalized_fixation_map(ad_fixed_map)\n",
        "  plot_save_fixation_map(ad_fixed_map, \"AD\", type)\n",
        "\n",
        "  mci_fixed_map = add_am(mci_allData, type)\n",
        "  mci_fixed_map = normalized_fixation_map(mci_fixed_map)\n",
        "  plot_save_fixation_map(mci_fixed_map, \"MCI\", type)\n",
        "\n",
        "  #nc-ad\n",
        "  fixed_map = nc_fixed_map + ad_fixed_map\n",
        "  fixed_map = normalized_fixation_map(fixed_map)\n",
        "  plot_save_fixation_map(fixed_map, \"NC_AD\", type)\n",
        "  #nc-mci\n",
        "  fixed_map = nc_fixed_map + mci_fixed_map\n",
        "  fixed_map = normalized_fixation_map(fixed_map)\n",
        "  plot_save_fixation_map(fixed_map, \"NC_MCI\", type)\n",
        "  #ad-mci\n",
        "  fixed_map = ad_fixed_map + mci_fixed_map\n",
        "  fixed_map = normalized_fixation_map(fixed_map)\n",
        "  plot_save_fixation_map(fixed_map, \"AD_MCI\", type)\n",
        "  #nc-mci-ad\n",
        "  fixed_map = nc_fixed_map + ad_fixed_map + mci_fixed_map \n",
        "  fixed_map = normalized_fixation_map(fixed_map)\n",
        "  plot_save_fixation_map(fixed_map, \"NC_MCI_AD\", type)"
      ],
      "metadata": {
        "id": "Veb0rnO1Ukey"
      },
      "execution_count": null,
      "outputs": []
    },
    {
      "cell_type": "code",
      "source": [
        "create_fixed_AM(nc_allData, ad_allData, mci_allData, \"Location_based\")"
      ],
      "metadata": {
        "id": "GCthk3fhXWUA"
      },
      "execution_count": null,
      "outputs": []
    },
    {
      "cell_type": "code",
      "source": [
        "create_fixed_AM(nc_allData, ad_allData, mci_allData, \"Duration_based\")"
      ],
      "metadata": {
        "id": "-pFhfFxT6h70"
      },
      "execution_count": null,
      "outputs": []
    },
    {
      "cell_type": "markdown",
      "source": [
        "# Attention Maps Correlation"
      ],
      "metadata": {
        "id": "duURPyzGvNY2"
      }
    },
    {
      "cell_type": "markdown",
      "source": [
        "Pearson correlation coefficient between two attention maps"
      ],
      "metadata": {
        "id": "R-cPVVsy3b3b"
      }
    },
    {
      "cell_type": "code",
      "source": [
        "def Pearson_Coefficient(map1, map2):\n",
        "  array_a = np.ndarray.flatten(map1)\n",
        "  array_b = np.ndarray.flatten(map2)\n",
        "  return np.corrcoef(array_a, array_b)"
      ],
      "metadata": {
        "id": "On7o3eLsiL_X"
      },
      "execution_count": null,
      "outputs": []
    },
    {
      "cell_type": "markdown",
      "source": [
        "Correlation between two maps"
      ],
      "metadata": {
        "id": "RZXHa2l13fUS"
      }
    },
    {
      "cell_type": "code",
      "source": [
        "def compare_maps(ID1=199, ID2=199, type=\"Location_based\", target_classes1=None, target_classes2=None):\n",
        "  if target_classes1 != None:\n",
        "    c = \"\".join('_'+i for i in target_classes1)\n",
        "    saliency_map1 = np.load(root_path + '/attention_maps/Avg_attention/'+type+ c + '.npy')\n",
        "  else:\n",
        "    saliency_map1 = np.load(root_path + '/attention_maps/'+type+'/'+ str(ID1) + '.npy')\n",
        "\n",
        "  if target_classes2 != None:\n",
        "    c = \"\".join('_'+i for i in target_classes2)\n",
        "    saliency_map2 = np.load(root_path + '/attention_maps/Avg_attention/'+type+ c + '.npy')\n",
        "  else:\n",
        "    saliency_map2 = np.load(root_path + '/attention_maps/'+type+'/'+ str(ID2) + '.npy')\n",
        "\n",
        "  coef = Pearson_Coefficient(saliency_map1, saliency_map2)[0,1]\n",
        "  return round(coef, 2)"
      ],
      "metadata": {
        "id": "1NGL5JxmWxCO"
      },
      "execution_count": null,
      "outputs": []
    },
    {
      "cell_type": "code",
      "source": [
        "print(compare_maps(type=\"Location_based\", target_classes1=['NC'], target_classes2=['MCI']))\n",
        "print(compare_maps(type=\"Location_based\", target_classes1=['NC'], target_classes2=['AD']))\n",
        "\n",
        "print(compare_maps(type=\"Location_based\", target_classes1=['MCI'], target_classes2=['AD']))"
      ],
      "metadata": {
        "colab": {
          "base_uri": "https://localhost:8080/"
        },
        "id": "wqsipLneMedC",
        "outputId": "cf879eae-9b8b-4dc4-91f0-95acfb55dfcf"
      },
      "execution_count": null,
      "outputs": [
        {
          "output_type": "stream",
          "name": "stdout",
          "text": [
            "0.88\n",
            "0.85\n",
            "0.87\n"
          ]
        }
      ]
    },
    {
      "cell_type": "markdown",
      "source": [
        "Correlation between two slices, one of each map"
      ],
      "metadata": {
        "id": "GuuJcCXz3lkK"
      }
    },
    {
      "cell_type": "code",
      "source": [
        "def compare_slice_of_maps(ID1=199, ID2=199, slice_nr=25, type=\"Location_based\", target_classes1=None, target_classes2=None):\n",
        "  if target_classes1 != None:\n",
        "    c = \"\".join('_'+i for i in target_classes1)\n",
        "    saliency_map1 = np.load(root_path + '/attention_maps/Avg_attention/'+type+ c + '.npy')\n",
        "  else:\n",
        "    saliency_map1 = np.load(root_path + '/attention_maps/'+type+'/'+ str(ID1) + '.npy')\n",
        "  saliency_map1 = saliency_map1[:,:,slice_nr]\n",
        "\n",
        "  if target_classes2 != None:\n",
        "    c = \"\".join('_'+i for i in target_classes2)\n",
        "    saliency_map2 = np.load(root_path + '/attention_maps/Avg_attention/'+type+ c + '.npy')\n",
        "  else:\n",
        "    saliency_map2 = np.load(root_path + '/attention_maps/'+type+'/'+ str(ID2) + '.npy')\n",
        "  saliency_map2 = saliency_map2[:,:,slice_nr]\n",
        "\n",
        "  coef = Pearson_Coefficient(saliency_map1, saliency_map2)[0,1]\n",
        "  return round(coef, 2)"
      ],
      "metadata": {
        "id": "nReyqDMypuxw"
      },
      "execution_count": null,
      "outputs": []
    },
    {
      "cell_type": "markdown",
      "source": [
        "Average correlation between maps of the same class"
      ],
      "metadata": {
        "id": "tvKuOyPH3pZo"
      }
    },
    {
      "cell_type": "code",
      "source": [
        "from statistics import mean, stdev\n",
        "\n",
        "def avg_corr_same(allData1, type=\"Location_based\"):\n",
        "  corr = []\n",
        "  for row_index1 in range(allData1.shape[0]):\n",
        "    if allData1.at[row_index1, 'Has Fix'] == 1:\n",
        "      for row_index2 in range(row_index1+1, allData1.shape[0]):\n",
        "        if allData1.at[row_index2, 'Has Fix'] == 1:\n",
        "          corr.append(compare_maps(allData1.at[row_index1, 'Scan ID'], allData1.at[row_index2, 'Scan ID'], type=type))\n",
        "\n",
        "  print(\"Mean correlation \", round(mean(corr), 2))\n",
        "  print(\"Standard deviation correlation \", round(stdev(corr), 2))"
      ],
      "metadata": {
        "id": "J38WZrRZj2bJ"
      },
      "execution_count": null,
      "outputs": []
    },
    {
      "cell_type": "code",
      "source": [
        "avg_corr_same(nc_allData, type=\"Location_based\")\n",
        "avg_corr_same(mci_allData, type=\"Location_based\")\n",
        "avg_corr_same(ad_allData, type=\"Location_based\")"
      ],
      "metadata": {
        "colab": {
          "base_uri": "https://localhost:8080/"
        },
        "id": "K2reUbUIXiUw",
        "outputId": "d8d1496a-71f1-4f5c-d145-d3a1c43cd72b"
      },
      "execution_count": null,
      "outputs": [
        {
          "output_type": "stream",
          "name": "stdout",
          "text": [
            "Mean correlation  0.15\n",
            "Standard deviation correlation  0.11\n",
            "Mean correlation  0.15\n",
            "Standard deviation correlation  0.1\n",
            "Mean correlation  0.11\n",
            "Standard deviation correlation  0.09\n"
          ]
        }
      ]
    },
    {
      "cell_type": "markdown",
      "source": [
        "Average correlation between maps of different classes"
      ],
      "metadata": {
        "id": "kMpjE3yC3su_"
      }
    },
    {
      "cell_type": "code",
      "source": [
        "def avg_corr_diff(allData1, allData2, type=\"Location_based\"):\n",
        "  corr = []\n",
        "  for row_index1 in range(allData1.shape[0]):\n",
        "    if allData1.at[row_index1, 'Has Fix'] == 1:\n",
        "      for row_index2 in range(allData2.shape[0]):\n",
        "        if allData2.at[row_index2, 'Has Fix'] == 1:\n",
        "          corr.append(compare_maps(allData1.at[row_index1, 'Scan ID'], allData2.at[row_index2, 'Scan ID'], type=type))\n",
        "\n",
        "  print(\"Mean correlation \", round(mean(corr), 2))\n",
        "  print(\"Standard deviation correlation \", round(stdev(corr), 2))"
      ],
      "metadata": {
        "id": "KQpUouqIxJYw"
      },
      "execution_count": null,
      "outputs": []
    },
    {
      "cell_type": "code",
      "source": [
        "avg_corr_diff(nc_allData, ad_allData, type=\"Location_based\")\n",
        "avg_corr_diff(nc_allData, mci_allData, type=\"Location_based\")\n",
        "avg_corr_diff(mci_allData, ad_allData, type=\"Location_based\")"
      ],
      "metadata": {
        "colab": {
          "base_uri": "https://localhost:8080/"
        },
        "id": "u9Rn8ZE3ePJc",
        "outputId": "793fcf9c-a0f3-46d8-f09c-abd1089dfc8e"
      },
      "execution_count": null,
      "outputs": [
        {
          "output_type": "stream",
          "name": "stdout",
          "text": [
            "Mean correlation  0.12\n",
            "Standard deviation correlation  0.09\n",
            "Mean correlation  0.14\n",
            "Standard deviation correlation  0.1\n",
            "Mean correlation  0.13\n",
            "Standard deviation correlation  0.09\n"
          ]
        }
      ]
    },
    {
      "cell_type": "markdown",
      "source": [
        "Average correlation between individual maps and avg attention maps"
      ],
      "metadata": {
        "id": "vYhJQqm_3wuU"
      }
    },
    {
      "cell_type": "code",
      "source": [
        "def avg_corr_fixed_map(allData, type=\"Location_based\", target_classes=['NC', 'AD']):\n",
        "  corr = []\n",
        "  for row_index in range(allData.shape[0]):\n",
        "    if allData.at[row_index, 'Has Fix'] == 1:\n",
        "      corr.append(compare_maps(ID1 = allData.at[row_index, 'Scan ID'], type=type, target_classes2=target_classes))\n",
        "\n",
        "  print(\"Mean correlation \", round(mean(corr), 4))\n",
        "  print(\"Standard deviation correlation \", round(stdev(corr), 4))"
      ],
      "metadata": {
        "id": "SxDMJLrEoJ-5"
      },
      "execution_count": null,
      "outputs": []
    },
    {
      "cell_type": "code",
      "source": [
        "# avg_corr_fixed_map(nc_allData, type=\"Location_based\", target_classes=['NC'])\n",
        "# avg_corr_fixed_map(ad_allData, type=\"Location_based\", target_classes=['AD'])\n",
        "# avg_corr_fixed_map(mci_allData, type=\"Location_based\", target_classes=['MCI'])\n",
        "\n",
        "# avg_corr_fixed_map(nc_allData, type=\"Location_based\", target_classes=['MCI'])\n",
        "# avg_corr_fixed_map(nc_allData, type=\"Location_based\", target_classes=['AD'])\n",
        "\n",
        "# avg_corr_fixed_map(mci_allData, type=\"Location_based\", target_classes=['NC'])\n",
        "# avg_corr_fixed_map(mci_allData, type=\"Location_based\", target_classes=['AD'])\n",
        "\n",
        "avg_corr_fixed_map(ad_allData, type=\"Location_based\", target_classes=['NC'])\n",
        "avg_corr_fixed_map(ad_allData, type=\"Location_based\", target_classes=['MCI'])"
      ],
      "metadata": {
        "colab": {
          "base_uri": "https://localhost:8080/"
        },
        "id": "dERHVyBKeX1j",
        "outputId": "5ab32bf6-cb0c-42b1-da2f-11df687c6ddf"
      },
      "execution_count": null,
      "outputs": [
        {
          "output_type": "stream",
          "name": "stdout",
          "text": [
            "Mean correlation  0.2985\n",
            "Standard deviation correlation  0.1111\n",
            "Mean correlation  0.3103\n",
            "Standard deviation correlation  0.109\n"
          ]
        }
      ]
    }
  ]
}