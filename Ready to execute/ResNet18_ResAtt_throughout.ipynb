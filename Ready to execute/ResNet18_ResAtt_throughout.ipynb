{
  "cells": [
    {
      "cell_type": "markdown",
      "metadata": {
        "id": "lJOYzMvBQ3lZ"
      },
      "source": [
        "# Imports, Drive and GPU"
      ]
    },
    {
      "cell_type": "code",
      "execution_count": null,
      "metadata": {
        "id": "To8bxiHdQVfV"
      },
      "outputs": [],
      "source": [
        "import pandas as pd # dataframes\n",
        "import numpy as np # vectors and matrixes\n",
        "import tensorflow as tf\n",
        "from sklearn.model_selection import StratifiedGroupKFold # cross-validation\n",
        "from sklearn.model_selection import GroupShuffleSplit, StratifiedShuffleSplit # separate train and test sets\n",
        "from sklearn.metrics import classification_report, confusion_matrix, roc_curve, roc_auc_score, auc, f1_score\n",
        "from sklearn.preprocessing import label_binarize\n",
        "import seaborn as sns # for confusion matrix\n",
        "from keras.utils.vis_utils import plot_model\n",
        "import matplotlib.pyplot as plt # plots\n",
        "from sklearn.preprocessing import MinMaxScaler # normalization\n",
        "from keras.callbacks import EarlyStopping, ModelCheckpoint, LearningRateScheduler\n",
        "from keras.models import load_model\n",
        "from statistics import mean, stdev\n",
        "import math\n",
        "from scipy.ndimage import zoom # resize scans and attention maps\n",
        "import copy\n",
        "from keras import Model # intermediate layer (fature extraction)\n",
        "# eliminate ramdomness to get reproducible results\n",
        "import os # to create directories\n",
        "os.environ['PYTHONHASHSEED']=str(7)\n",
        "import random\n",
        "random.seed(7)\n",
        "from numpy.random import seed\n",
        "seed(7)\n",
        "tf.random.set_seed(7)\n",
        "# to compute elapsed time of training\n",
        "import time \n",
        "from datetime import timedelta\n",
        "from tensorflow.keras.optimizers import SGD # to select sgd optimizer\n",
        "from requests import get # to get this Google Colab file name\n",
        "from tensorflow.keras.optimizers import Adam, SGD\n",
        "import collections # for verifies\n",
        "import shutil # to move files from directories\n",
        "from sklearn.utils.class_weight import compute_class_weight\n",
        "import json # for serialization\n",
        "from contextlib import redirect_stdout # to redirect the standard output to a file (print model summary)"
      ]
    },
    {
      "cell_type": "code",
      "execution_count": null,
      "metadata": {
        "id": "tc211_D6qsjK"
      },
      "outputs": [],
      "source": [
        "from google.colab import drive, files # to use Google Drive\n",
        "drive.flush_and_unmount()\n",
        "drive.mount('/content/drive/') # connect to Google Drive\n",
        "root_path = '/content/drive/My Drive/dataset' # change directory to my Google Drive\n",
        "#root_path = 'G:\\My Drive\\dataset' # change directory to my device's database"
      ]
    },
    {
      "cell_type": "markdown",
      "metadata": {
        "id": "oRaQG0H_8_vI"
      },
      "source": [
        "Create directory for model metrics"
      ]
    },
    {
      "cell_type": "code",
      "execution_count": null,
      "metadata": {
        "id": "HjJDu16G85XU"
      },
      "outputs": [],
      "source": [
        "model_name = '/ResAtt/'+get('http://172.28.0.2:9000/api/sessions').json()[0]['name']\n",
        "model_name = model_name[:len(model_name)-6]\n",
        "model_name = model_name.replace('%20', ' ')\n",
        "print(model_name)\n",
        "if not os.path.exists(root_path+'/Models_metrics'+ model_name):\n",
        "    os.makedirs(root_path+'/Models_metrics'+ model_name)"
      ]
    },
    {
      "cell_type": "markdown",
      "metadata": {
        "id": "7CECgYGUuTKn"
      },
      "source": [
        "Save GPU name"
      ]
    },
    {
      "cell_type": "code",
      "execution_count": null,
      "metadata": {
        "id": "dtVy_VJXRH61"
      },
      "outputs": [],
      "source": [
        "if os.path.isfile('/gpu_name.txt'):\n",
        "  print('exists in the destination path!')\n",
        "  os.remove('/gpu_name.txt')\n",
        "!nvidia-smi -L >> gpu_name.txt\n",
        "if os.path.isfile(root_path+'/Models_metrics'+ model_name+'/gpu_name.txt'):\n",
        "  print('exists in the destination path!')\n",
        "  os.remove(root_path+'/Models_metrics'+ model_name+'/gpu_name.txt')\n",
        "shutil.move('gpu_name.txt', root_path+'/Models_metrics'+ model_name)"
      ]
    },
    {
      "cell_type": "markdown",
      "metadata": {
        "id": "5HYntZ16MApn"
      },
      "source": [
        "# Setting Scan IDs, Subjects IDs and Scan Labels"
      ]
    },
    {
      "cell_type": "markdown",
      "metadata": {
        "id": "H-ZikUVSJ-UF"
      },
      "source": [
        "scan_ids - Identification of each scan\n",
        "\n",
        "labels - dictionary (key - scan ID; value - ground truth label)\n",
        "\n",
        "subject_id - dictionary (key - scan ID; value - subject id)"
      ]
    },
    {
      "cell_type": "code",
      "execution_count": null,
      "metadata": {
        "id": "BweTjZSbCla7"
      },
      "outputs": [],
      "source": [
        "# set a list with all the scan ids possible\n",
        "task = \"NC vs AD\" # (\"NC vs AD\" \"AD vs MCI\" \"NC vs MCI\" \"NC vs MCI vs AD\")"
      ]
    },
    {
      "cell_type": "code",
      "source": [
        "data_augmentation = 0\n",
        "if data_augmentation == 1:\n",
        "  pet_source = '/PETs_numpy_data_augmentation'\n",
        "else:\n",
        "  pet_source = '/PETs_numpy'"
      ],
      "metadata": {
        "id": "im8sNsPNES_D"
      },
      "execution_count": null,
      "outputs": []
    },
    {
      "cell_type": "code",
      "execution_count": null,
      "metadata": {
        "id": "SSF23-4sNFLe"
      },
      "outputs": [],
      "source": [
        "# load labels\n",
        "labels = np.load(root_path + pet_source + '/Labels/labels.npy', allow_pickle='TRUE')\n",
        "labels = labels.item()\n",
        "# load subject ids\n",
        "subject_id = np.load(root_path + pet_source + '/Subject_id/subject_id.npy', allow_pickle='TRUE')\n",
        "subject_id = subject_id.item() # it is a dictionary"
      ]
    },
    {
      "cell_type": "code",
      "execution_count": null,
      "metadata": {
        "id": "Y-0SY9QqAx0h"
      },
      "outputs": [],
      "source": [
        "nr_classes = 2\n",
        "if task == \"NC vs AD\":\n",
        "  # remove MCI information\n",
        "  labels = { key: val for key, val in labels.items() if val != 1}\n",
        "  scan_ids = list(labels.keys())\n",
        "  subject_id = { key: val for key, val in subject_id.items() if key in scan_ids }\n",
        "  # the class of AD is represented by nr 2, but we have to set it to 1 to be adapted for the model\n",
        "  labels = {x: 1 if labels[x] == 2 else labels[x] for x in labels }\n",
        "  target_classes = ['NC', 'AD']\n",
        "elif task == \"AD vs MCI\":\n",
        "  # remove NC information\n",
        "  labels = { key: val for key, val in labels.items() if val != 0}\n",
        "  scan_ids = list(labels.keys())\n",
        "  subject_id = { key: val for key, val in subject_id.items() if key in scan_ids }\n",
        "  # the class of AD is represented by nr 2, but we have to set it to 0 to be adapted for the model\n",
        "  labels = {x: 0 if labels[x] == 2 else labels[x] for x in labels }\n",
        "  target_classes = ['AD', 'MCI']\n",
        "elif task == \"NC vs MCI\":\n",
        "  # remove AD information\n",
        "  labels = { key: val for key, val in labels.items() if val != 2}\n",
        "  scan_ids = list(labels.keys())\n",
        "  subject_id = { key: val for key, val in subject_id.items() if key in scan_ids }\n",
        "  target_classes = ['NC', 'MCI']\n",
        "elif task == \"NC vs MCI vs AD\":\n",
        "  scan_ids = list(labels.keys())\n",
        "  nr_classes = 3\n",
        "  target_classes = ['NC', 'MCI', 'AD']\n",
        "\n",
        "# list with all the labels, alternative to dictionary (needed sometimes)\n",
        "labels_list = [ labels[id] for id in scan_ids ]\n",
        "# list with all the subjects ids, alternative to dictionary (needed sometimes)\n",
        "subject_id_list = [ subject_id[id] for id in scan_ids  ]"
      ]
    },
    {
      "cell_type": "markdown",
      "source": [
        "# Visualization"
      ],
      "metadata": {
        "id": "lok_sHRz4kDz"
      }
    },
    {
      "cell_type": "markdown",
      "source": [
        "Auxilary function to transform from 2D coordinates to 1D and vice versa"
      ],
      "metadata": {
        "id": "bjxl0ddPzG5N"
      }
    },
    {
      "cell_type": "code",
      "source": [
        "def coordinates_transform(point_vector_form):\n",
        "  fixation_image = np.zeros(128*128)\n",
        "  fixation_image[point_vector_form] = 1\n",
        "  fixation_image = fixation_image.reshape(128, 128)\n",
        "  coord_point = np.nonzero(fixation_image)\n",
        "  return coord_point\n",
        "\n",
        "def coordinates_untransform(point_x, point_y):\n",
        "  if 0 <= point_x <= 127 and 0 <= point_y <= 127: \n",
        "    pt = 128*point_x+point_y\n",
        "    return pt\n",
        "  else:\n",
        "    return False"
      ],
      "metadata": {
        "id": "lAs-7WyWzFDa"
      },
      "execution_count": null,
      "outputs": []
    },
    {
      "cell_type": "code",
      "source": [
        "# plot the scan\n",
        "def show_scan_plot(scan, slice_nr):\n",
        "  one_slice_2d = scan[:,:,slice_nr] # array with one slice of a single patient\n",
        "  plt.imshow(one_slice_2d, cmap='jet')\n",
        "  plt.colorbar()"
      ],
      "metadata": {
        "id": "zeq-jZRBzTVM"
      },
      "execution_count": null,
      "outputs": []
    },
    {
      "cell_type": "markdown",
      "source": [
        "Plot a slice of a scan with the corresponding fixations on top"
      ],
      "metadata": {
        "id": "kt9ClijKyr5m"
      }
    },
    {
      "cell_type": "code",
      "source": [
        "# plot the fixations on top of the scan\n",
        "def show_scan_with_fixations(allData, slice_nr, scan_index, save):\n",
        "\n",
        "  if allData.at[scan_index, 'Has Fix'] == 0 or allData.at[scan_index, 'Fixations'][slice_nr] == []: \n",
        "    print(\"There are no fixations for slice number \", slice_nr, \" of scan on row \", scan_index)\n",
        "    return\n",
        "\n",
        "  print(\"Subject \", allData.at[scan_index, 'Subject ID'])\n",
        "  print(\"Fixation points \", allData.at[scan_index, 'Durations'][slice_nr])\n",
        "\n",
        "  one_slice_2d = copy.deepcopy(allData.at[scan_index, 'Scan'][:,:,slice_nr]) # array with one slice of a single patient\n",
        "  \n",
        "  plt.imshow(one_slice_2d, cmap='jet')\n",
        "  plt.colorbar()\n",
        "\n",
        "  locations = allData.at[scan_index, 'Fixations'][slice_nr]\n",
        "  coord = coordinates_transform(locations)\n",
        "  plt.scatter(coord[0], coord[1])\n",
        "  \n",
        "  if save == \"save\":\n",
        "    plt.savefig(f\"/content/drive/My Drive/plots/scan_fixations_{allData.at[scan_index, 'Class']}_{slice_nr}_{allData.at[scan_index, 'Subject ID']}.pdf\", \n",
        "              bbox_inches =\"tight\")\n",
        "  \n",
        "  #plt.show() "
      ],
      "metadata": {
        "id": "3XFixVxgypjb"
      },
      "execution_count": null,
      "outputs": []
    },
    {
      "cell_type": "markdown",
      "metadata": {
        "id": "Rj5LXtMvm2vk"
      },
      "source": [
        "# Verification of correct process of stratified cross-validation (To use when programming)"
      ]
    },
    {
      "cell_type": "markdown",
      "source": [
        "Print the number of scans of a subject in the train and test dataset"
      ],
      "metadata": {
        "id": "H613t1rEzVih"
      }
    },
    {
      "cell_type": "code",
      "execution_count": null,
      "metadata": {
        "id": "HI8qqQbEm2Pu"
      },
      "outputs": [],
      "source": [
        "import collections\n",
        "def print_scans_of_the_same_subject(subject_id, train_scans, test_scans):\n",
        "  subjects_train = [ subject_id[scan] for scan in train_scans ]\n",
        "  print(\"subject \", subject_id, \" has \", collections.Counter(subjects_train), \" in the train dataset\")\n",
        "\n",
        "  subjects_test = [ subject_id[scan] for scan in test_scans ]\n",
        "  print(\"subject \", subject_id, \" has \", collections.Counter(subjects_test), \" in the test dataset\")"
      ]
    },
    {
      "cell_type": "markdown",
      "source": [],
      "metadata": {
        "id": "IBIsDvQNzV9F"
      }
    },
    {
      "cell_type": "code",
      "execution_count": null,
      "metadata": {
        "id": "Jflw6Bs0nA1U"
      },
      "outputs": [],
      "source": [
        "def verify_veracity(index, subject_id_list, scan_ids, labels_list):\n",
        "  print(\"subject id \", subject_id_list[index])\n",
        "  print(\"scan \", scan_ids[index])\n",
        "  print(\"label \", labels_list[index])"
      ]
    },
    {
      "cell_type": "markdown",
      "source": [
        "Print list of subjects IDs for both classes (there cannot be an overlap)"
      ],
      "metadata": {
        "id": "M3ZrFwUizWeK"
      }
    },
    {
      "cell_type": "code",
      "execution_count": null,
      "metadata": {
        "id": "Hm2E12AMnCXt"
      },
      "outputs": [],
      "source": [
        "def verify_common_subjects(subject_id, train_scans, test_scans):\n",
        "  subjects_train = [ subject_id[scan] for scan in train_scans ]\n",
        "  print(subjects_train)\n",
        "  subjects_test = [ subject_id[scan] for scan in test_scans ]\n",
        "  print(subjects_test)\n",
        "  common_items = [ item for item in subjects_test if item in subjects_train ]\n",
        "  print(common_items)"
      ]
    },
    {
      "cell_type": "markdown",
      "source": [
        "Check the porportion of both classes in the train and test set"
      ],
      "metadata": {
        "id": "eSFR6l8wzXLS"
      }
    },
    {
      "cell_type": "code",
      "execution_count": null,
      "metadata": {
        "id": "qQeSGVB7nD13"
      },
      "outputs": [],
      "source": [
        "def verify_proportions(labels, train, test):\n",
        "  train_total = 0\n",
        "  train_count_class1 = 0\n",
        "  train_count_class2 = 0\n",
        "\n",
        "  for scan_id in train:\n",
        "    train_total +=1\n",
        "    if labels[scan_id] == 0:\n",
        "      train_count_class1 +=1\n",
        "    else:\n",
        "      train_count_class2 +=1\n",
        "\n",
        "  print(\"Train class1: \", round(train_count_class1/train_total, 2) ,\"class2: \", round(train_count_class2/train_total, 2))\n",
        "\n",
        "  test_total = 0\n",
        "  test_count_class1 = 0\n",
        "  test_count_class2 = 0\n",
        "\n",
        "  for scan_id in test:\n",
        "    test_total +=1\n",
        "    if labels[scan_id] == 0:\n",
        "      test_count_class1 +=1\n",
        "    else:\n",
        "      test_count_class2 +=1\n",
        "\n",
        "  print(\"Test class1: \", round(test_count_class1/test_total, 2) ,\"class2: \", round(test_count_class2/test_total, 2))"
      ]
    },
    {
      "cell_type": "markdown",
      "source": [
        "# Residual Attention module"
      ],
      "metadata": {
        "id": "Z_5dmmdZaYTb"
      }
    },
    {
      "cell_type": "markdown",
      "source": [
        "Adapted to 3D from\n",
        "\n",
        "https://github.com/qubvel/residual_attention_network/blob/master/models/models.py"
      ],
      "metadata": {
        "id": "BK1XUmYQCha9"
      }
    },
    {
      "cell_type": "markdown",
      "source": [
        "Another implementation in keras, but not used\n",
        "\n",
        "https://github.com/deontaepharr/Residual-Attention-Network/blob/3d0f683f5219bf0f8d069aaed7f60a60cad29bfe/Code/ResidualAttentionNetwork.py \n",
        "\n"
      ],
      "metadata": {
        "id": "WbrOoGM0D1m9"
      }
    },
    {
      "cell_type": "markdown",
      "source": [
        "![Res_att.png](data:image/png;base64,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)"
      ],
      "metadata": {
        "id": "lMKRlUUViUEw"
      }
    },
    {
      "cell_type": "code",
      "source": [
        "from keras.layers import BatchNormalization\n",
        "from keras.layers import Conv3D\n",
        "from keras.layers import UpSampling3D\n",
        "from keras.layers import Activation\n",
        "from keras.layers import MaxPool3D\n",
        "from keras.layers import Add\n",
        "from keras.layers import Multiply\n",
        "from keras.layers import Lambda\n",
        "\n",
        "\n",
        "def residual_block(input, input_channels=None, output_channels=None, kernel_size=(3, 3, 3), stride=1):\n",
        "    \"\"\"\n",
        "    full pre-activation residual block\n",
        "    https://arxiv.org/pdf/1603.05027.pdf\n",
        "    \"\"\"\n",
        "    if output_channels is None:\n",
        "        output_channels = input.get_shape()[-1]\n",
        "    if input_channels is None:\n",
        "        input_channels = output_channels // 4\n",
        "\n",
        "    strides = (stride, stride, stride)\n",
        "\n",
        "    x = BatchNormalization()(input)\n",
        "    x = Activation('relu')(x)\n",
        "    x = Conv3D(input_channels, (1,1,1))(x)\n",
        "\n",
        "    x = BatchNormalization()(x)\n",
        "    x = Activation('relu')(x)\n",
        "    x = Conv3D(input_channels, kernel_size, padding='same', strides=stride)(x)\n",
        "\n",
        "    x = BatchNormalization()(x)\n",
        "    x = Activation('relu')(x)\n",
        "    x = Conv3D(output_channels, (1,1,1), padding='same')(x)\n",
        "\n",
        "    if input_channels != output_channels or stride != 1:\n",
        "        input = Conv3D(output_channels, (1,1,1), padding='same', strides=strides)(input)\n",
        "\n",
        "    x = Add()([x, input])\n",
        "    return x\n",
        "\n",
        "def attention_block(input, input_channels=None, output_channels=None, encoder_depth=1):\n",
        "    \"\"\"\n",
        "    attention block\n",
        "    https://arxiv.org/abs/1704.06904\n",
        "    \"\"\"\n",
        "\n",
        "    p = 1\n",
        "    t = 2\n",
        "    r = 1\n",
        "\n",
        "    if input_channels is None:\n",
        "        input_channels = input.get_shape()[-1]\n",
        "    if output_channels is None:\n",
        "        output_channels = input_channels\n",
        "\n",
        "    # First Residual Block\n",
        "    for i in range(p):\n",
        "        input = residual_block(input)\n",
        "\n",
        "    # Trunc Branch\n",
        "    output_trunk = input\n",
        "    for i in range(t):\n",
        "        output_trunk = residual_block(output_trunk)\n",
        "\n",
        "    # Soft Mask Branch\n",
        "\n",
        "    ## encoder\n",
        "    ### first down sampling\n",
        "    output_soft_mask = MaxPool3D(padding='same')(input)  # 32x32\n",
        "    for i in range(r):\n",
        "        output_soft_mask = residual_block(output_soft_mask)\n",
        "\n",
        "    skip_connections = []\n",
        "    for i in range(encoder_depth - 1):\n",
        "\n",
        "        ## skip connections\n",
        "        output_skip_connection = residual_block(output_soft_mask)\n",
        "        skip_connections.append(output_skip_connection)\n",
        "        # print ('skip shape:', output_skip_connection.get_shape())\n",
        "\n",
        "        ## down sampling\n",
        "        output_soft_mask = MaxPool3D(padding='same')(output_soft_mask)\n",
        "        for _ in range(r):\n",
        "            output_soft_mask = residual_block(output_soft_mask)\n",
        "\n",
        "            ## decoder\n",
        "    skip_connections = list(reversed(skip_connections))\n",
        "    for i in range(encoder_depth - 1):\n",
        "        ## upsampling\n",
        "        for _ in range(r):\n",
        "            output_soft_mask = residual_block(output_soft_mask)\n",
        "        output_soft_mask = UpSampling3D()(output_soft_mask)\n",
        "        ## skip connections\n",
        "        output_soft_mask = Add()([output_soft_mask, skip_connections[i]])\n",
        "\n",
        "    ### last upsampling\n",
        "    for i in range(r):\n",
        "        output_soft_mask = residual_block(output_soft_mask)\n",
        "    output_soft_mask = UpSampling3D()(output_soft_mask)\n",
        "\n",
        "    ## Output\n",
        "    output_soft_mask = Conv3D(input_channels, (1, 1, 1))(output_soft_mask)\n",
        "    output_soft_mask = Conv3D(input_channels, (1, 1, 1))(output_soft_mask)\n",
        "    output_soft_mask = Activation('sigmoid')(output_soft_mask)\n",
        "\n",
        "    # Attention: (1 + output_soft_mask) * output_trunk\n",
        "    output = Lambda(lambda x: x + 1)(output_soft_mask)\n",
        "    output = Multiply()([output, output_trunk])  #\n",
        "\n",
        "    # Last Residual Block\n",
        "    for i in range(p):\n",
        "        output = residual_block(output)\n",
        "\n",
        "    return output"
      ],
      "metadata": {
        "id": "1FFi_fQ0aU49"
      },
      "execution_count": null,
      "outputs": []
    },
    {
      "cell_type": "markdown",
      "metadata": {
        "id": "g8qEidKDQ7nf"
      },
      "source": [
        "# ResNet 3D from Jihong Ju"
      ]
    },
    {
      "cell_type": "markdown",
      "metadata": {
        "id": "I2fT5uTBJ74N"
      },
      "source": [
        "3D ResNet that accepts as input 3D arrays with multiple channels. PET scans are 3D arrays with one channel.\n",
        "\n",
        "This code was retrived from https://github.com/JihongJu/keras-resnet3d/blob/master/resnet3d/resnet3d.py with minor adaptations."
      ]
    },
    {
      "cell_type": "code",
      "execution_count": null,
      "metadata": {
        "id": "hMp-0J5hOzDJ"
      },
      "outputs": [],
      "source": [
        "from __future__ import (\n",
        "    absolute_import,\n",
        "    division,\n",
        "    print_function,\n",
        "    unicode_literals\n",
        ")\n",
        "import six\n",
        "import math\n",
        "from math import ceil\n",
        "from tensorflow.keras.models import Model\n",
        "from tensorflow.keras.layers import (\n",
        "    Input,\n",
        "    Activation,\n",
        "    Dense,\n",
        "    Flatten\n",
        ")\n",
        "from tensorflow.keras.layers import (\n",
        "    Conv3D,\n",
        "    AveragePooling3D,\n",
        "    MaxPooling3D\n",
        ")\n",
        "from tensorflow.keras.layers import add\n",
        "from tensorflow.keras.layers import BatchNormalization\n",
        "from tensorflow.keras.regularizers import l2\n",
        "from tensorflow.keras import backend as K\n",
        "\n",
        "\n",
        "## Resnet 3D architecture\n",
        "\n",
        "def _bn_relu(input):\n",
        "    \"\"\"Helper to build a BN -> relu block (by @raghakot).\"\"\"\n",
        "    norm = BatchNormalization(axis=CHANNEL_AXIS, momentum=0.99)(input)\n",
        "    return Activation(\"relu\")(norm)\n",
        "\n",
        "def _conv_bn_relu3D(**conv_params):\n",
        "    filters = conv_params[\"filters\"]\n",
        "    kernel_size = conv_params[\"kernel_size\"]\n",
        "    strides = conv_params.setdefault(\"strides\", (1, 1, 1))\n",
        "    kernel_initializer = conv_params.setdefault(\n",
        "        \"kernel_initializer\", \"he_normal\")\n",
        "    padding = conv_params.setdefault(\"padding\", \"same\")\n",
        "    kernel_regularizer = conv_params.setdefault(\"kernel_regularizer\",\n",
        "                                                l2(1e-4))\n",
        "\n",
        "    def f(input):\n",
        "        conv = Conv3D(filters=filters, kernel_size=kernel_size,\n",
        "                      strides=strides, kernel_initializer=kernel_initializer,\n",
        "                      padding=padding,\n",
        "                      kernel_regularizer=kernel_regularizer)(input)\n",
        "        return _bn_relu(conv)\n",
        "\n",
        "    return f\n",
        "\n",
        "def _bn_relu_conv3d(**conv_params):\n",
        "    \"\"\"Helper to build a  BN -> relu -> conv3d block.\"\"\"\n",
        "    filters = conv_params[\"filters\"]\n",
        "    kernel_size = conv_params[\"kernel_size\"]\n",
        "    strides = conv_params.setdefault(\"strides\", (1, 1, 1))\n",
        "    kernel_initializer = conv_params.setdefault(\"kernel_initializer\",\n",
        "                                                \"he_normal\")\n",
        "    padding = conv_params.setdefault(\"padding\", \"same\")\n",
        "    kernel_regularizer = conv_params.setdefault(\"kernel_regularizer\",\n",
        "                                                l2(1e-4))\n",
        "\n",
        "    def f(input):\n",
        "        activation = _bn_relu(input)\n",
        "        block = Conv3D(filters=filters, kernel_size=kernel_size,\n",
        "                      strides=strides, kernel_initializer=kernel_initializer,\n",
        "                      padding=padding,\n",
        "                      kernel_regularizer=kernel_regularizer)(activation)\n",
        "        return block\n",
        "    return f\n",
        "\n",
        "\n",
        "def _shortcut3d(input, residual):\n",
        "    \"\"\"3D shortcut to match input and residual and merges them with \"sum\".\"\"\"\n",
        "    stride_dim1 = math.ceil(int(input.shape[DIM1_AXIS]) \\\n",
        "        / int(residual.shape[DIM1_AXIS]))\n",
        "    stride_dim2 = math.ceil(int(input.shape[DIM2_AXIS]) \\\n",
        "        / int(residual.shape[DIM2_AXIS]))\n",
        "    stride_dim3 = math.ceil(int(input.shape[DIM3_AXIS]) \\\n",
        "        / int(residual.shape[DIM3_AXIS]))\n",
        "    equal_channels = int(residual.shape[CHANNEL_AXIS]) \\\n",
        "        == int(input.shape[CHANNEL_AXIS])\n",
        "\n",
        "    shortcut = input\n",
        "    if stride_dim1 > 1 or stride_dim2 > 1 or stride_dim3 > 1 \\\n",
        "            or not equal_channels:\n",
        "        shortcut = Conv3D(\n",
        "            filters=int(residual.shape[CHANNEL_AXIS]),\n",
        "            kernel_size=(1, 1, 1),\n",
        "            strides=(stride_dim1, stride_dim2, stride_dim3),\n",
        "            kernel_initializer=\"he_normal\", padding=\"valid\",\n",
        "            kernel_regularizer=l2(1e-4)\n",
        "            )(input)\n",
        "    return add([shortcut, residual])\n",
        "\n",
        "\n",
        "def _residual_block3d(block_function, filters, kernel_regularizer, repetitions,\n",
        "                      is_first_layer=False):\n",
        "    def f(input):\n",
        "        for i in range(repetitions):\n",
        "            strides = (1, 1, 1)\n",
        "            if i == 0 and not is_first_layer:\n",
        "                strides = (2, 2, 2)\n",
        "            input = block_function(filters=filters, strides=strides,\n",
        "                                   kernel_regularizer=kernel_regularizer,\n",
        "                                   is_first_block_of_first_layer=(\n",
        "                                       is_first_layer and i == 0)\n",
        "                                   )(input)\n",
        "        return input\n",
        "\n",
        "    return f\n",
        "\n",
        "\n",
        "def basic_block(filters, strides=(1, 1, 1), kernel_regularizer=l2(1e-4),\n",
        "                is_first_block_of_first_layer=False):\n",
        "    \"\"\"Basic 3 X 3 X 3 convolution blocks. Extended from raghakot's 2D impl.\"\"\"\n",
        "    def f(input):\n",
        "        if is_first_block_of_first_layer:\n",
        "            # don't repeat bn->relu since we just did bn->relu->maxpool\n",
        "            conv1 = Conv3D(filters=filters, kernel_size=(3, 3, 3),\n",
        "                           strides=strides, padding=\"same\",\n",
        "                           kernel_initializer=\"he_normal\",\n",
        "                           kernel_regularizer=kernel_regularizer\n",
        "                           )(input)\n",
        "        else:\n",
        "            conv1 = _bn_relu_conv3d(filters=filters,\n",
        "                                    kernel_size=(3, 3, 3),\n",
        "                                    strides=strides,\n",
        "                                    kernel_regularizer=kernel_regularizer\n",
        "                                    )(input)\n",
        "\n",
        "        residual = _bn_relu_conv3d(filters=filters, kernel_size=(3, 3, 3),\n",
        "                                   kernel_regularizer=kernel_regularizer\n",
        "                                   )(conv1)\n",
        "        return _shortcut3d(input, residual)\n",
        "\n",
        "    return f\n",
        "\n",
        "\n",
        "def bottleneck(filters, strides=(1, 1, 1), kernel_regularizer=l2(1e-4),\n",
        "               is_first_block_of_first_layer=False):\n",
        "    \"\"\"Basic 3 X 3 X 3 convolution blocks. Extended from raghakot's 2D impl.\"\"\"\n",
        "    def f(input):\n",
        "        if is_first_block_of_first_layer:\n",
        "            # don't repeat bn->relu since we just did bn->relu->maxpool\n",
        "            conv_1_1 = Conv3D(filters=filters, kernel_size=(1, 1, 1),\n",
        "                              strides=strides, padding=\"same\",\n",
        "                              kernel_initializer=\"he_normal\",\n",
        "                              kernel_regularizer=kernel_regularizer\n",
        "                              )(input)\n",
        "        else:\n",
        "            conv_1_1 = _bn_relu_conv3d(filters=filters, kernel_size=(1, 1, 1),\n",
        "                                       strides=strides,\n",
        "                                       kernel_regularizer=kernel_regularizer\n",
        "                                       )(input)\n",
        "\n",
        "        conv_3_3 = _bn_relu_conv3d(filters=filters, kernel_size=(3, 3, 3),\n",
        "                                   kernel_regularizer=kernel_regularizer\n",
        "                                   )(conv_1_1)\n",
        "        residual = _bn_relu_conv3d(filters=filters * 4, kernel_size=(1, 1, 1),\n",
        "                                   kernel_regularizer=kernel_regularizer\n",
        "                                   )(conv_3_3)\n",
        "\n",
        "        return _shortcut3d(input, residual)\n",
        "\n",
        "    return f\n",
        "\n",
        "\n",
        "def _handle_data_format():\n",
        "    global DIM1_AXIS\n",
        "    global DIM2_AXIS\n",
        "    global DIM3_AXIS\n",
        "    global CHANNEL_AXIS\n",
        "    if K.image_data_format() == 'channels_last':\n",
        "        print(\"here CHANNELS last\")\n",
        "        DIM1_AXIS = 1\n",
        "        DIM2_AXIS = 2\n",
        "        DIM3_AXIS = 3\n",
        "        CHANNEL_AXIS = 4\n",
        "    else:\n",
        "        CHANNEL_AXIS = 1\n",
        "        DIM1_AXIS = 2\n",
        "        DIM2_AXIS = 3\n",
        "        DIM3_AXIS = 4\n",
        "\n",
        "\n",
        "def _get_block(identifier):\n",
        "    if isinstance(identifier, six.string_types):\n",
        "        res = globals().get(identifier)\n",
        "        if not res:\n",
        "            raise ValueError('Invalid {}'.format(identifier))\n",
        "        return res\n",
        "    return identifier\n",
        "\n",
        "\n",
        "class Resnet3DBuilder(object):\n",
        "    \"\"\"ResNet3D.\"\"\"\n",
        "\n",
        "    @staticmethod\n",
        "    def build(input_shape, num_outputs, block_fn, repetitions, reg_factor):\n",
        "        \"\"\"Instantiate a vanilla ResNet3D keras model.\n",
        "        # Arguments\n",
        "            input_shape: Tuple of input shape in the format\n",
        "            (conv_dim1, conv_dim2, conv_dim3, channels) if dim_ordering='tf'\n",
        "            (filter, conv_dim1, conv_dim2, conv_dim3) if dim_ordering='th'\n",
        "            num_outputs: The number of outputs at the final softmax layer\n",
        "            block_fn: Unit block to use {'basic_block', 'bottlenack_block'}\n",
        "            repetitions: Repetitions of unit blocks\n",
        "        # Returns\n",
        "            model: a 3D ResNet model that takes a 5D tensor (volumetric images\n",
        "            in batch) as input and returns a 1D vector (prediction) as output.\n",
        "        \"\"\"\n",
        "        _handle_data_format()\n",
        "        if len(input_shape) != 4:\n",
        "            raise ValueError(\"Input shape should be a tuple \"\n",
        "                             \"(conv_dim1, conv_dim2, conv_dim3, channels) \"\n",
        "                             \"for tensorflow as backend or \"\n",
        "                             \"(channels, conv_dim1, conv_dim2, conv_dim3) \"\n",
        "                             \"for theano as backend\")\n",
        "\n",
        "        block_fn = _get_block(block_fn)\n",
        "        input = Input(shape=input_shape)\n",
        "        # first conv\n",
        "        conv1 = _conv_bn_relu3D(filters=64, kernel_size=(7, 7, 7),\n",
        "                                strides=(2, 2, 2),\n",
        "                                kernel_regularizer=l2(reg_factor)\n",
        "                                )(input)\n",
        "        pool1 = MaxPooling3D(pool_size=(3, 3, 3), strides=(2, 2, 2),\n",
        "                             padding=\"same\")(conv1)\n",
        "\n",
        "        # repeat blocks\n",
        "        block = pool1\n",
        "        filters = 64\n",
        "        for i, r in enumerate(repetitions):\n",
        "            block = _residual_block3d(block_fn, filters=filters,\n",
        "                                      kernel_regularizer=l2(reg_factor),\n",
        "                                      repetitions=r, is_first_layer=(i == 0)\n",
        "                                      )(block)\n",
        "            if i != len(repetitions)-1:\n",
        "              block = attention_block(block, encoder_depth=len(repetitions)-1-i)\n",
        "            filters *= 2\n",
        "\n",
        "        # last activation\n",
        "        block_output = _bn_relu(block)\n",
        "\n",
        "        # average poll and classification\n",
        "        pool2 = AveragePooling3D(pool_size=(int(block.shape[DIM1_AXIS]),\n",
        "                                            int(block.shape[DIM2_AXIS]),\n",
        "                                            int(block.shape[DIM3_AXIS])),\n",
        "                                 strides=(1, 1, 1))(block_output)\n",
        "        flatten1 = Flatten()(pool2)\n",
        "        if num_outputs > 1:\n",
        "            dense = Dense(units=num_outputs,\n",
        "                          kernel_initializer=\"he_normal\",\n",
        "                          activation=\"softmax\",\n",
        "                          kernel_regularizer=l2(reg_factor))(flatten1)\n",
        "        else:\n",
        "            dense = Dense(units=num_outputs,\n",
        "                          kernel_initializer=\"he_normal\",\n",
        "                          activation=\"sigmoid\",\n",
        "                          kernel_regularizer=l2(reg_factor))(flatten1)\n",
        "\n",
        "        model = Model(inputs=input, outputs=dense)\n",
        "        return model\n",
        "\n",
        "    @staticmethod\n",
        "    def build_resnet_18(input_shape, num_outputs, reg_factor=1e-4):\n",
        "        \"\"\"Build resnet 18.\"\"\"\n",
        "        return Resnet3DBuilder.build(input_shape, num_outputs, basic_block,\n",
        "                                     [2,2,2,2], reg_factor=reg_factor)\n",
        "\n",
        "    @staticmethod\n",
        "    def build_resnet_34(input_shape, num_outputs, reg_factor=1e-4):\n",
        "        \"\"\"Build resnet 34.\"\"\"\n",
        "        return Resnet3DBuilder.build(input_shape, num_outputs, basic_block,\n",
        "                                     [3, 4, 6, 3], reg_factor=reg_factor)\n",
        "\n",
        "    @staticmethod\n",
        "    def build_resnet_50(input_shape, num_outputs, reg_factor=1e-4):\n",
        "        \"\"\"Build resnet 50.\"\"\"\n",
        "        return Resnet3DBuilder.build(input_shape, num_outputs, bottleneck,\n",
        "                                     [3, 4, 6, 3], reg_factor=reg_factor)\n",
        "\n",
        "    @staticmethod\n",
        "    def build_resnet_101(input_shape, num_outputs, reg_factor=1e-4):\n",
        "        \"\"\"Build resnet 101.\"\"\"\n",
        "        return Resnet3DBuilder.build(input_shape, num_outputs, bottleneck,\n",
        "                                     [3, 4, 23, 3], reg_factor=reg_factor)\n",
        "\n",
        "    @staticmethod\n",
        "    def build_resnet_152(input_shape, num_outputs, reg_factor=1e-4):\n",
        "        \"\"\"Build resnet 152.\"\"\"\n",
        "        return Resnet3DBuilder.build(input_shape, num_outputs, bottleneck,\n",
        "                                     [3, 8, 36, 3], reg_factor=reg_factor)"
      ]
    },
    {
      "cell_type": "markdown",
      "metadata": {
        "id": "-xKhuepTZoRl"
      },
      "source": [
        "# Data Generator"
      ]
    },
    {
      "cell_type": "markdown",
      "metadata": {
        "id": "TNGxnmI1KJo6"
      },
      "source": [
        "All data does not fit in memory during training, therefore a data generator is used. An instance of this data generator transfers to memory a small amount of samples each time, so the model can train with that small amount of samples. In the next iteration, transfers the next set of samples and so on."
      ]
    },
    {
      "cell_type": "code",
      "execution_count": null,
      "metadata": {
        "id": "0ovh4NMnZsLA"
      },
      "outputs": [],
      "source": [
        "class DataGenerator(tf.keras.utils.Sequence):\n",
        "    'Generates data for Keras'\n",
        "    def __init__(self, list_IDs, labels, batch_size=32, dim=(128,128,64), n_channels=1,\n",
        "                 n_classes=2, shuffle=True):\n",
        "        'Initialization'\n",
        "        self.dim = dim\n",
        "        self.batch_size = batch_size\n",
        "        self.labels = labels\n",
        "        self.list_IDs = list_IDs\n",
        "        self.n_channels = n_channels\n",
        "        self.n_classes = n_classes\n",
        "        self.shuffle = shuffle\n",
        "        self.on_epoch_end()\n",
        "\n",
        "    def __len__(self):\n",
        "        'Denotes the number of batches per epoch'\n",
        "        return int(np.floor(len(self.list_IDs) / self.batch_size))\n",
        "\n",
        "    def __getitem__(self, index):\n",
        "        'Generate one batch of data'\n",
        "        # Generate indexes of the batch\n",
        "        indexes = self.indexes[index*self.batch_size:(index+1)*self.batch_size]\n",
        "\n",
        "        # Find list of IDs\n",
        "        list_IDs_temp = [self.list_IDs[k] for k in indexes]\n",
        "\n",
        "        # Generate data\n",
        "        X, y = self.__data_generation(list_IDs_temp)\n",
        "\n",
        "        return X, y\n",
        "\n",
        "    def on_epoch_end(self):\n",
        "        'Updates indexes after each epoch'\n",
        "        self.indexes = np.arange(len(self.list_IDs))\n",
        "        if self.shuffle == True:\n",
        "            np.random.shuffle(self.indexes)\n",
        "\n",
        "    def __data_generation(self, list_IDs_temp):\n",
        "        'Generates data containing batch_size samples' # X : (n_samples, *dim, n_channels)\n",
        "        # Initialization\n",
        "        X = np.zeros((self.batch_size, *self.dim))\n",
        "        y = np.empty((self.batch_size), dtype=int)\n",
        "\n",
        "        # Generate data\n",
        "        for i, ID in enumerate(list_IDs_temp):\n",
        "            # Store sample\n",
        "            X[i,:,:,0:60] = np.load(root_path + pet_source + '/python_normalized_reshaped/' + str(ID) + '.npy')\n",
        "\n",
        "            # Store class\n",
        "            y[i] = self.labels[ID]\n",
        "\n",
        "        if self.n_classes > 1:\n",
        "          y = tf.keras.utils.to_categorical(y, num_classes=self.n_classes)\n",
        "\n",
        "        return X, y"
      ]
    },
    {
      "cell_type": "markdown",
      "metadata": {
        "id": "sT0QCACvqeGx"
      },
      "source": [
        "# Testing Metrics"
      ]
    },
    {
      "cell_type": "markdown",
      "metadata": {
        "id": "l5cF-DkBqq5C"
      },
      "source": [
        "Metrics: accuracy, confusion matrix, sensistivity, specificity, ROC, AUC"
      ]
    },
    {
      "cell_type": "code",
      "execution_count": null,
      "metadata": {
        "id": "-BS-BD-fvmSN"
      },
      "outputs": [],
      "source": [
        "# only for multiclass classification\n",
        "def plot_ROC_AUC_multiclass(y_true,  y_pred, iteration):\n",
        "\n",
        "  # roc curve for classes\n",
        "  fpr = {}\n",
        "  tpr = {}\n",
        "\n",
        "  for i in range(nr_classes):\n",
        "      fpr[i], tpr[i], _ = roc_curve(y_true, y_pred, pos_label=i)\n",
        "  \n",
        "  y_true = label_binarize(y_true, classes=[0, 1, 2])\n",
        "  y_pred = label_binarize(y_pred, classes=[0, 1, 2])\n",
        "  auc = roc_auc_score(y_true, y_pred, multi_class=\"ovr\", average=None)\n",
        "      \n",
        "  # plotting\n",
        "  plt.rcParams.update(plt.rcParamsDefault) # reset plot configurations\n",
        "  plt.plot(fpr[0], tpr[0], linestyle='--',color='orange', label=target_classes[0]+' vs Rest'+\" | AUC = %0.2f\" % auc[0])\n",
        "  plt.plot(fpr[1], tpr[1], linestyle='--',color='green', label=target_classes[1]+' vs Rest'+\" | AUC = %0.2f\" % auc[1])\n",
        "  plt.plot(fpr[2], tpr[2], linestyle='--',color='red', label=target_classes[2]+' vs Rest'+\" | AUC = %0.2f\" % auc[2])\n",
        "  plt.plot([0, 1], [0, 1], color=\"navy\", lw=2, linestyle=\"--\")\n",
        "  plt.xlim([0.0, 1.0])\n",
        "  plt.ylim([0.0, 1.05])\n",
        "  plt.xlabel('False Positive Rate')\n",
        "  plt.ylabel('True Positive rate')\n",
        "  plt.legend(loc='lower right')\n",
        "  plt.savefig(f\"{root_path}/Models_metrics{model_name}/ROC_AUC_{iteration}.pdf\", bbox_inches =\"tight\")\n",
        "  plt.show()"
      ]
    },
    {
      "cell_type": "code",
      "execution_count": null,
      "metadata": {
        "id": "-kLrLqLCpcDg"
      },
      "outputs": [],
      "source": [
        "# only for binary classification\n",
        "def plot_ROC_AUC(y_true,  y_pred, auc_metric, iteration):\n",
        "  fpr, tpr, _ = roc_curve(y_true,  y_pred)\n",
        "  auc = roc_auc_score(y_true, y_pred)\n",
        "  auc_metric.append(auc)\n",
        "  \n",
        "  plt.rcParams.update(plt.rcParamsDefault) # reset plot configurations\n",
        "\n",
        "  # plot\n",
        "  plt.figure()\n",
        "  plt.plot(fpr, tpr, color=\"darkorange\", lw=2, \n",
        "           label=\"AUC = %0.2f\" % auc)\n",
        "  plt.plot([0, 1], [0, 1], color=\"navy\", lw=2, linestyle=\"--\")\n",
        "  plt.xlim([0.0, 1.0])\n",
        "  plt.ylim([0.0, 1.05])\n",
        "  plt.xlabel(\"False Positive Rate\")\n",
        "  plt.ylabel(\"True Positive Rate\")\n",
        "  plt.legend(loc=\"lower right\")\n",
        "  plt.savefig(f\"{root_path}/Models_metrics{model_name}/ROC_AUC_{iteration}.pdf\", bbox_inches =\"tight\")\n",
        "  plt.show()"
      ]
    },
    {
      "cell_type": "markdown",
      "metadata": {
        "id": "IFesglxUgrA_"
      },
      "source": [
        "Plot confusion matrix and accuracy"
      ]
    },
    {
      "cell_type": "code",
      "execution_count": null,
      "metadata": {
        "id": "5aKnB9qfo9q7"
      },
      "outputs": [],
      "source": [
        "def conf_matrix(y_true, y_pred, test_acc, iteration):\n",
        "  c_m = confusion_matrix(y_true, y_pred)\n",
        "\n",
        "  # compute accuracy\n",
        "  test_acc.append(round(np.trace(c_m)/c_m.sum(), 4)*100)\n",
        "  print(\"Test accuracy for every iteration \", test_acc)\n",
        "\n",
        "  cm = c_m.astype('float') / c_m.sum(axis=1)[:,None] # normalize\n",
        "  cm = cm.round(2)\n",
        "  cm = pd.DataFrame(cm, index = target_classes, columns = target_classes)\n",
        "\n",
        "  #plot\n",
        "  plt.figure(figsize = (4,4))\n",
        "  sns.set(font_scale=1.4) # for label size\n",
        "  hm = sns.heatmap(cm, annot=True, cmap = \"Blues\", annot_kws={\"size\": 25}, cbar=False)\n",
        "  hm.set_xlabel(\"Predicted Labels\")\n",
        "  hm.set_ylabel(\"Actual Labels\")\n",
        "  plt.savefig(f\"{root_path}/Models_metrics{model_name}/conf_matrix_{iteration}.pdf\", bbox_inches =\"tight\")\n",
        "  plt.show()\n",
        "  return c_m"
      ]
    },
    {
      "cell_type": "markdown",
      "metadata": {
        "id": "wGnLB2eBrCFf"
      },
      "source": [
        "Given a confusion matrix compute sensitivity and specificity."
      ]
    },
    {
      "cell_type": "code",
      "execution_count": null,
      "metadata": {
        "id": "d0CMFvJkgNhg"
      },
      "outputs": [],
      "source": [
        "def compute_sen_spec(cm, sen_metric, spec_metric):\n",
        "  sen = cm[1][1] / (cm[1][1]+cm[1][0])\n",
        "  spec = cm[0][0] / (cm[0][0]+cm[0][1])\n",
        "  sen_metric.append(sen)\n",
        "  spec_metric.append(spec)\n",
        "  print(\"sensitivity \", round(sen,4)*100, \" %\")\n",
        "  print(\"specificity \", round(spec,4)*100, \" %\")"
      ]
    },
    {
      "cell_type": "markdown",
      "metadata": {
        "id": "JgA_lkwDKVzw"
      },
      "source": [
        "Agloremation of all the metrics in one function"
      ]
    },
    {
      "cell_type": "code",
      "source": [
        "def metrics(y_pred_orig, y_true, test_metrics, iteration):\n",
        "  # metrics: acc, confusion matrix, sen, spec, ROC, AUC\n",
        "  if nr_classes == 3:\n",
        "    y_pred = list(np.argmax(y_pred_orig, axis=1))\n",
        "    print(classification_report(y_true, y_pred, target_names=target_classes))\n",
        "    test_metrics['f1'].append(round(f1_score(y_true, y_pred), 2))\n",
        "    print(\"f1-score \", test_metrics['f1'])\n",
        "    conf_matrix(y_true, y_pred, test_metrics['acc'], iteration)\n",
        "    y_pred_orig = [item for sublist in y_pred_orig for item in sublist]\n",
        "    plot_ROC_AUC_multiclass(y_true,  y_pred_orig, iteration)  \n",
        "  else:\n",
        "    y_pred = list(np.argmax(y_pred_orig, axis=1))\n",
        "    print(classification_report(y_true, y_pred, target_names=target_classes))\n",
        "    test_metrics['f1'].append(round(f1_score(y_true, y_pred), 2))\n",
        "    print(\"f1-score \", test_metrics['f1'])\n",
        "    c_m = conf_matrix(y_true, y_pred, test_metrics['acc'], iteration)\n",
        "    compute_sen_spec(c_m, test_metrics['sen'], test_metrics['spec'])\n",
        "    plot_ROC_AUC(y_true, y_pred_orig[:,1], test_metrics['auc'], iteration)"
      ],
      "metadata": {
        "id": "Z9wWYqWZFUuF"
      },
      "execution_count": null,
      "outputs": []
    },
    {
      "cell_type": "code",
      "execution_count": null,
      "metadata": {
        "id": "JBmYqIJbUjoB"
      },
      "outputs": [],
      "source": [
        "def show_means_metrics(test_metric):\n",
        "  test_means = {'acc': {}, 'f1': {}, 'sen': {}, 'spec': {}, 'auc': {}}\n",
        "  test_means['acc']['avg'] = round(mean(test_metric['acc']),4)\n",
        "  test_means['acc']['std'] = round(stdev(test_metric['acc']), 4)\n",
        "  print(\"Mean test accuracy \", test_means['acc']['avg'])\n",
        "  print(\"Standard deviation accuracy \", test_means['acc']['std'])\n",
        "\n",
        "  test_means['f1']['avg'] = round(mean(test_metric['f1']), 4)\n",
        "  test_means['f1']['std'] = round(stdev(test_metric['f1']), 4)\n",
        "  print(\"Mean test f1_score \", test_means['f1']['avg'])\n",
        "  print(\"Standard deviation f1_score \", test_means['f1']['std'])\n",
        "\n",
        "  test_means['sen']['avg'] = round(mean(test_metric['sen']), 4)\n",
        "  test_means['sen']['std'] = round(stdev(test_metric['sen']), 4)\n",
        "  print(\"Mean test sensitivity \", test_means['sen']['avg'])\n",
        "  print(\"Standard deviation sensitivity \", test_means['sen']['std'])\n",
        "\n",
        "  test_means['spec']['avg'] = round(mean(test_metric['spec']), 4)\n",
        "  test_means['spec']['std'] = round(stdev(test_metric['spec']), 4)\n",
        "  print(\"Mean test specificity \", test_means['spec']['avg'])\n",
        "  print(\"Standard deviation specificity \", test_means['spec']['std'])\n",
        "\n",
        "  test_means['auc']['avg'] = round(mean(test_metric['auc']), 4)\n",
        "  test_means['auc']['std'] = round(stdev(test_metric['auc']), 4)\n",
        "  print(\"Mean test AUC \", test_means['auc']['avg'])\n",
        "  print(\"Standard deviation AUC \", test_means['auc']['std'])\n",
        "\n",
        "  return test_means"
      ]
    },
    {
      "cell_type": "markdown",
      "metadata": {
        "id": "WrLT6YxmZ-9n"
      },
      "source": [
        "# Training parameters\n",
        "\n"
      ]
    },
    {
      "cell_type": "markdown",
      "metadata": {
        "id": "fZ6gVcoNTGYp"
      },
      "source": [
        "Training of the netork with cross-validation. Several validations were made for different hyperparameters, like batch size, nr of layers, normalization block's momentum."
      ]
    },
    {
      "cell_type": "code",
      "execution_count": null,
      "metadata": {
        "id": "le2uC81Sv0VV"
      },
      "outputs": [],
      "source": [
        "# Parameters\n",
        "params = {'dim': (128,128,64),\n",
        "          'batch_size': 16,\n",
        "          'n_classes': nr_classes,\n",
        "          'n_channels': 1,\n",
        "          'shuffle': False}\n",
        "\n",
        "params_test = {'dim': (128,128,64),\n",
        "          'batch_size': 1,\n",
        "          'n_classes': nr_classes,\n",
        "          'n_channels': 1,\n",
        "          'shuffle': False}"
      ]
    },
    {
      "cell_type": "markdown",
      "metadata": {
        "id": "nk95NyUXsFkW"
      },
      "source": [
        "Plots of accuracy and loss along epochs during training"
      ]
    },
    {
      "cell_type": "code",
      "execution_count": null,
      "metadata": {
        "id": "fc7WN1O3z-uD"
      },
      "outputs": [],
      "source": [
        "def graph_accuracy_loss(history, iteration):\n",
        "  # summarize history for accuracy\n",
        "  plt.plot(history.history['accuracy'], marker='o')\n",
        "  plt.plot(history.history['val_accuracy'], marker='o')\n",
        "  plt.ylabel('accuracy')\n",
        "  plt.ylim([0, 1])\n",
        "  plt.xlabel('epoch')\n",
        "  plt.legend(['train', 'validation'], loc='lower right')\n",
        "  plt.grid()\n",
        "  plt.savefig(f\"{root_path}/Models_metrics{model_name}/accuracy_epochs_{iteration}.pdf\", bbox_inches =\"tight\")\n",
        "  plt.show()\n",
        "\n",
        "  # summarize history for loss\n",
        "  plt.plot(history.history['loss'], marker='o')\n",
        "  plt.plot(history.history['val_loss'], marker='o')\n",
        "  plt.ylabel('loss')\n",
        "  plt.xlabel('epoch')\n",
        "  plt.legend(['train', 'validation'], loc='upper right')\n",
        "  plt.grid()\n",
        "  plt.savefig(f\"{root_path}/Models_metrics{model_name}/loss_epochs_{iteration}.pdf\", bbox_inches =\"tight\")\n",
        "  plt.show()"
      ]
    },
    {
      "cell_type": "markdown",
      "source": [
        "Train and validation accuracy average for a certain number of epochs"
      ],
      "metadata": {
        "id": "faaz3pNOKIv1"
      }
    },
    {
      "cell_type": "code",
      "execution_count": null,
      "metadata": {
        "id": "6ZlAtnYCjqQX"
      },
      "outputs": [],
      "source": [
        "def print_avg_acc(history, nr_epochs):\n",
        "  acc = np.array(history.history['accuracy'][-nr_epochs:]) * 100\n",
        "  avg_acc = mean(acc)\n",
        "\n",
        "  val_acc = np.array(history.history['val_accuracy'][-nr_epochs:]) * 100\n",
        "  avg_val_acc = mean(val_acc)\n",
        "  \n",
        "  print('Average Accuracy Train: %.2f, Validation: %.2f' % (avg_acc, avg_val_acc))\n",
        "  return"
      ]
    },
    {
      "cell_type": "markdown",
      "source": [
        "Train and validation accuracy standard deviation for a certain number of epochs"
      ],
      "metadata": {
        "id": "hbiuaIMnJ_jB"
      }
    },
    {
      "cell_type": "code",
      "execution_count": null,
      "metadata": {
        "id": "Zy9udM33mPE0"
      },
      "outputs": [],
      "source": [
        "def print_acc_std_dev(history, nr_epochs):\n",
        "  acc = np.array(history.history['accuracy'][-nr_epochs:]) * 100\n",
        "  var_acc = np.var(acc)\n",
        "  var_acc = math.sqrt(var_acc)\n",
        "\n",
        "  val_acc = np.array(history.history['val_accuracy'][-nr_epochs:]) * 100\n",
        "  var_val_acc = np.var(val_acc)\n",
        "  var_val_acc = math.sqrt(var_val_acc)\n",
        "\n",
        "  print('Accuracy Standard deviation Train: %.2f, Validation: %.2f' % (var_acc, var_val_acc))"
      ]
    },
    {
      "cell_type": "markdown",
      "metadata": {
        "id": "gNyzOoXKQhcW"
      },
      "source": [
        "# Testing with cross-validation"
      ]
    },
    {
      "cell_type": "code",
      "execution_count": null,
      "metadata": {
        "id": "0A3qFTkypCAW"
      },
      "outputs": [],
      "source": [
        "test_metric = {\n",
        "  'acc': [],\n",
        "  'f1': [],\n",
        "  'sen': [],\n",
        "  'spec': [],\n",
        "  'auc': []}\n",
        "\n",
        "final_model = []\n",
        "\n",
        "start = time.time()\n",
        "\n",
        "# stratified k fold cross-validation with scans of the same subject in the same fold\n",
        "# split training and test set\n",
        "# these two sets do not contain overlapping subjects\n",
        "# these two sets have the same proportion of both classes\n",
        "sgkf = StratifiedGroupKFold(n_splits=5, shuffle=True, random_state=7)\n",
        "\n",
        "for iteration, (train, test) in enumerate(sgkf.split(scan_ids, labels_list, subject_id_list)):\n",
        "  print('Iteration number: ', iteration)\n",
        "  # simple early stopping\n",
        "  #es = EarlyStopping(monitor='val_loss', mode='min', verbose=1, patience=20)\n",
        "  # to save best model\n",
        "  mc = ModelCheckpoint('best_model.h5', monitor='val_loss', mode='min', save_best_only=True)\n",
        "\n",
        "  # obtain scans ID\n",
        "  train = [ scan_ids[index] for index in train ]\n",
        "  test = [ scan_ids[index] for index in test ]\n",
        "\n",
        "  verify_proportions(labels, train, test)\n",
        "\n",
        "  # create network\n",
        "  net = Resnet3DBuilder()\n",
        "  if nr_classes == 2:\n",
        "    model = net.build_resnet_18((128, 128, 64, 1), num_outputs=2)\n",
        "    model.compile(loss='binary_crossentropy', optimizer='sgd', metrics=['accuracy'])\n",
        "  elif nr_classes == 3:\n",
        "    model = net.build_resnet_18((128, 128, 64, 1), num_outputs=3)\n",
        "    model.compile(loss='categorical_crossentropy', optimizer='sgd', metrics=['accuracy'])\n",
        "\n",
        "  np.random.shuffle(train)\n",
        "  np.random.shuffle(test)\n",
        "\n",
        "  # train validation split\n",
        "  train_labels_list = [ labels[id] for id in train ] # labels\n",
        "  train_subject_id_list = [ subject_id[id] for id in train  ] # scan's subject ID\n",
        "\n",
        "  splitter = StratifiedGroupKFold(n_splits=7, shuffle=True, random_state=7)\n",
        "  train_val_split = splitter.split(train, train_labels_list, train_subject_id_list)\n",
        "  subtrain_indx, val_indx = next(train_val_split)\n",
        "\n",
        "  subtrain = [ train[index] for index in subtrain_indx ]\n",
        "  val = [ train[index] for index in val_indx ]\n",
        "\n",
        "  verify_proportions(labels, subtrain, val)\n",
        "\n",
        "  # generators\n",
        "  training_generator = DataGenerator(subtrain, labels, **params)\n",
        "  validation_generator = DataGenerator(val, labels, **params)\n",
        "  test_generator = DataGenerator(test, labels, **params_test)\n",
        "\n",
        "  # train\n",
        "  history = model.fit(training_generator, validation_data=validation_generator, epochs = 50, callbacks=[mc])\n",
        "  graph_accuracy_loss(history, iteration) # plot acc and loss for each epoch\n",
        "  print_avg_acc(history, 20)\n",
        "  print_acc_std_dev(history, 20)\n",
        "\n",
        "  # test\n",
        "  print(\"TEST -----------------------------------------\")\n",
        "  y_true = [labels[i] for i in test]\n",
        "  final_model.append(load_model('best_model.h5')) # load best model\n",
        "  y_pred = final_model[-1].predict(test_generator)\n",
        "  metrics(y_pred, y_true, test_metric, iteration)\n",
        "\n",
        "test_means = show_means_metrics(test_metric)\n",
        "\n",
        "end = time.time()\n",
        "elpased_time = end - start\n",
        "print(\"\\nExecution time \", timedelta(seconds=elpased_time))"
      ]
    },
    {
      "cell_type": "markdown",
      "source": [
        "# Save Model"
      ],
      "metadata": {
        "id": "GE5GRTOm3bok"
      }
    },
    {
      "cell_type": "markdown",
      "source": [
        "Save model"
      ],
      "metadata": {
        "id": "uGDlpnmvb8Ds"
      }
    },
    {
      "cell_type": "code",
      "source": [
        "# save the best model on the test data to Google Drive\n",
        "max_value = max(test_metric['acc'])\n",
        "max_index = test_metric['acc'].index(max_value)\n",
        "model = final_model[max_index]\n",
        "model.save(root_path+'/Saved_Models'+ model_name)"
      ],
      "metadata": {
        "id": "qcECoWyfslHj"
      },
      "execution_count": null,
      "outputs": []
    },
    {
      "cell_type": "markdown",
      "source": [
        "Save model metrics"
      ],
      "metadata": {
        "id": "-ITSGZA_b5HW"
      }
    },
    {
      "cell_type": "code",
      "source": [
        "import json\n",
        "with open(root_path+'/Models_metrics'+ model_name+'/test_metrics.json', 'w') as test_metrics_file:\n",
        "     test_metrics_file.write(json.dumps(test_metric))\n",
        "\n",
        "with open(root_path+'/Models_metrics'+ model_name+'/test_means.json', 'w') as test_means_file:\n",
        "     test_means_file.write(json.dumps(test_means))"
      ],
      "metadata": {
        "id": "TXDF2hTrZ5TN"
      },
      "execution_count": null,
      "outputs": []
    },
    {
      "cell_type": "markdown",
      "source": [
        "Save model summary"
      ],
      "metadata": {
        "id": "Y4CK4pNOKWsm"
      }
    },
    {
      "cell_type": "code",
      "source": [
        "from contextlib import redirect_stdout\n",
        "\n",
        "with open(root_path+'/Models_metrics'+ model_name+'/model_summary.txt', 'w') as f:\n",
        "    with redirect_stdout(f):\n",
        "        model.summary()"
      ],
      "metadata": {
        "id": "lQNsy_dGZKOq"
      },
      "execution_count": null,
      "outputs": []
    },
    {
      "cell_type": "markdown",
      "source": [
        "Save model diagram"
      ],
      "metadata": {
        "id": "LA0IwNp7KYwQ"
      }
    },
    {
      "cell_type": "code",
      "source": [
        "plot_model(model, to_file=root_path+'/Models_metrics'+ model_name+'/plot_model.png', show_shapes=True, show_layer_names=True, show_layer_activations=True)"
      ],
      "metadata": {
        "id": "fPlAF11_3y8J",
        "colab": {
          "base_uri": "https://localhost:8080/",
          "height": 54
        },
        "outputId": "a3922a67-5eb6-42ac-8e20-ca422721c1b7"
      },
      "execution_count": null,
      "outputs": []
    },
    {
      "cell_type": "markdown",
      "source": [
        "# Visualization Saliency and Attention Maps"
      ],
      "metadata": {
        "id": "DIks7IwawPva"
      }
    },
    {
      "cell_type": "markdown",
      "source": [
        "#### Functions"
      ],
      "metadata": {
        "id": "G8xtR82EbhRl"
      }
    },
    {
      "cell_type": "markdown",
      "source": [
        "Plot a slice of a normalized PET scan "
      ],
      "metadata": {
        "id": "bFEMzyq-W_GP"
      }
    },
    {
      "cell_type": "code",
      "source": [
        "def show_normalized_scan(ID, slice_nr):\n",
        "  scan = np.load(root_path + '/PETs_numpy/normalized/' + str(ID) + '.npy')\n",
        "  show_scan_plot(scan, slice_nr)\n",
        "  plt.show()"
      ],
      "metadata": {
        "id": "AQ0DvdzGW-UE"
      },
      "execution_count": null,
      "outputs": []
    },
    {
      "cell_type": "markdown",
      "source": [
        "Plot a slice of a not normalized PET scan"
      ],
      "metadata": {
        "id": "ggk3rE2jW1dH"
      }
    },
    {
      "cell_type": "code",
      "source": [
        "def show_not_normalized_scan(ID, slice_nr):\n",
        "  scan = np.load(root_path + '/PETs_numpy/not_normalized/' + str(ID) + '.npy')\n",
        "  show_scan_plot(scan, slice_nr)\n",
        "  plt.show()"
      ],
      "metadata": {
        "id": "VsLtb_fpWxIp"
      },
      "execution_count": null,
      "outputs": []
    },
    {
      "cell_type": "markdown",
      "source": [
        "Plot a slice of the saliency map of a PET scan"
      ],
      "metadata": {
        "id": "HXmBIOi2NMsh"
      }
    },
    {
      "cell_type": "code",
      "source": [
        "def show_scan_saliency_map(ID, slice_nr, type):\n",
        "  att_map = np.load(root_path + '/attention_maps/'+type+'/'+ str(ID) + '.npy')\n",
        "  show_scan_plot(att_map, slice_nr)\n",
        "  plt.clim(0,1)\n",
        "  plt.show()"
      ],
      "metadata": {
        "id": "p3PzQm1tw5nR"
      },
      "execution_count": null,
      "outputs": []
    },
    {
      "cell_type": "markdown",
      "source": [
        "Plot a slice of a PET scan with the saliency map created by the doctor on top"
      ],
      "metadata": {
        "id": "h4qrJcfYasDk"
      }
    },
    {
      "cell_type": "code",
      "source": [
        "def show_scan_saliency_map_ontop(ID, slice_nr, type):\n",
        "  scan = np.load(root_path + '/PETs_numpy/not_normalized/' + str(ID) + '.npy')\n",
        "  one_slice_2d = scan[:,:,slice_nr]\n",
        "  plt.imshow(one_slice_2d, cmap='gray', zorder=0)\n",
        "\n",
        "  att_map = np.load(root_path + '/attention_maps/'+type+'/'+ str(ID) + '.npy')\n",
        "  one_slice_2d = att_map[:,:,slice_nr]\n",
        "  plt.imshow(one_slice_2d, cmap='jet', alpha=0.4, zorder=10)\n",
        "  plt.clim(0,1)\n",
        "  plt.colorbar()\n",
        "  plt.show()"
      ],
      "metadata": {
        "id": "ooKU3Esqaj1g"
      },
      "execution_count": null,
      "outputs": []
    },
    {
      "cell_type": "markdown",
      "source": [
        "Plot a fixed saliency map"
      ],
      "metadata": {
        "id": "B9OilcAzXkhg"
      }
    },
    {
      "cell_type": "code",
      "source": [
        "def show_scan_fixed_saliency_map(slice_nr, type, target_classes):\n",
        "  c = \"\".join('_'+i for i in target_classes)\n",
        "\n",
        "  fix_att_map = np.load(root_path + '/attention_maps/Fixed_attention/'+type+ c + '.npy')\n",
        "  show_scan_plot(fix_att_map, slice_nr)\n",
        "  plt.show() "
      ],
      "metadata": {
        "id": "xVHzVh6yXL5-"
      },
      "execution_count": null,
      "outputs": []
    },
    {
      "cell_type": "markdown",
      "source": [
        "Plot a fixed saliency map on top of a slice of a PET scan"
      ],
      "metadata": {
        "id": "gEInwEb-bbXG"
      }
    },
    {
      "cell_type": "code",
      "source": [
        "def show_scan_fixed_saliency_map_ontop(slice_nr, type, target_classes):\n",
        "  # retrieve random scan\n",
        "  scan = np.load(root_path + '/PETs_numpy/not_normalized/' + str(25) + '.npy')\n",
        "  one_slice_2d = scan[:,:,slice_nr]\n",
        "  plt.imshow(one_slice_2d, cmap='gray', zorder=0)\n",
        "\n",
        "  c = \"\".join('_'+i for i in target_classes)\n",
        "  fix_att_map = np.load(root_path + '/attention_maps/Fixed_attention/'+type+ c + '.npy')\n",
        "  one_slice_2d = fix_att_map[:,:,slice_nr]\n",
        "  plt.imshow(one_slice_2d, cmap='jet', alpha=0.4, zorder=10)\n",
        "  plt.clim(0,1)\n",
        "  plt.colorbar()\n",
        "  plt.show()"
      ],
      "metadata": {
        "id": "2fAzGgVpbXp5"
      },
      "execution_count": null,
      "outputs": []
    },
    {
      "cell_type": "code",
      "source": [
        "def show_model_attention_map(ID, slice_nr, CNN_model, att_layer_nr):\n",
        "  x_test = np.zeros((1,128,128,64,1))\n",
        "  x_test[0,:,:,:,0] = np.load(root_path + '/PETs_numpy/normalized_with_64axial_slices/' + str(ID) + '.npy')\n",
        "\n",
        "  layer_name = 'activation_'+str(att_layer_nr)\n",
        "  intermediate_layer_model = Model(inputs=CNN_model.input,\n",
        "                                        outputs=CNN_model.get_layer(layer_name).output)\n",
        "  intermediate_output = intermediate_layer_model(x_test)\n",
        "  #inter_out = np.where(intermediate_output[0,:,:,:,0] < 0, 0, intermediate_output[0,:,:,:,0])\n",
        "\n",
        "  size_1 = intermediate_output.shape[1]\n",
        "  size_2 = intermediate_output.shape[2]\n",
        "  size_3 = intermediate_output.shape[3]\n",
        "\n",
        "  print(\"Attention map with real dimensions\")\n",
        "  show_scan_plot(intermediate_output[0,:,:,:,0], int(slice_nr*size_3/64))\n",
        "  plt.clim(0,1)\n",
        "  plt.show()\n",
        "  print(np.amax(intermediate_output[0,:,:,:,0]))\n",
        "  print(np.amin(intermediate_output[0,:,:,:,0]))\n",
        "\n",
        "  print(\"Resized - Real dimensions of attention map \", size_1, size_2, size_3)\n",
        "\n",
        "  res = zoom(np.array(intermediate_output[0,:,:,:,0]), (128/size_1, 128/size_2, 64/size_3)) # determinar se este é o melhor resize\n",
        "  \n",
        "  one_slice_2d = res[:,:,slice_nr]\n",
        "  plt.imshow(one_slice_2d, cmap='jet')\n",
        "  plt.clim(0,1)\n",
        "  plt.colorbar()\n",
        "  plt.show()\n",
        "  print(np.amax(res))\n",
        "  print(np.amin(res))"
      ],
      "metadata": {
        "id": "UFgYOPFH1k9D"
      },
      "execution_count": null,
      "outputs": []
    },
    {
      "cell_type": "markdown",
      "source": [
        "Scan with the attention map created by the model on top"
      ],
      "metadata": {
        "id": "vxCZmFvpY9rR"
      }
    },
    {
      "cell_type": "code",
      "source": [
        "def show_scan_model_attention_ontop(ID, slice_nr, CNN_model, att_layer_nr):\n",
        "  scan = np.load(root_path + '/PETs_numpy/not_normalized/' + str(ID) + '.npy')\n",
        "  one_slice_2d = scan[:,:,slice_nr]\n",
        "  plt.imshow(one_slice_2d, cmap='gray', zorder=0)\n",
        "\n",
        "  x_test = np.zeros((1,128,128,60,1))\n",
        "  x_test[0,:,:,:,0] = np.load(root_path + '/PETs_numpy/normalized/' + str(ID) + '.npy')\n",
        "\n",
        "  layer_name = 'att_'+str(att_layer_nr)\n",
        "  intermediate_layer_model = Model(inputs=CNN_model.input,\n",
        "                                        outputs=CNN_model.get_layer(layer_name).output)\n",
        "  intermediate_output = intermediate_layer_model(x_test)\n",
        "\n",
        "  size_1 = intermediate_output.shape[1]\n",
        "  size_2 = intermediate_output.shape[2]\n",
        "  size_3 = intermediate_output.shape[3]\n",
        "  print(\"Real dimensions of attention map \", size_1, size_2, size_3)\n",
        "\n",
        "  res = zoom(np.array(intermediate_output[0,:,:,:,0]), (128/size_1, 128/size_2, 60/size_3)) # determinar se este é o melhor resize\n",
        "\n",
        "  one_slice_2d = res[:,:,slice_nr]\n",
        "  plt.imshow(one_slice_2d, cmap='jet', alpha=0.4, zorder=10)\n",
        "  plt.clim(0,1)\n",
        "  plt.colorbar()\n",
        "  plt.show()"
      ],
      "metadata": {
        "id": "k2vCwyjXsALC"
      },
      "execution_count": null,
      "outputs": []
    },
    {
      "cell_type": "markdown",
      "source": [
        "Return the row index of a scan in its dataframe given the scan ID"
      ],
      "metadata": {
        "id": "Hg7N1R0zWN0S"
      }
    },
    {
      "cell_type": "code",
      "source": [
        "def get_scan_index_in_Dataframe(allData1, allData2, allData3, scan_id):\n",
        "  value1 = allData1.index[allData1['Scan ID'] == scan_id]\n",
        "  value2 = allData2.index[allData2['Scan ID'] == scan_id]\n",
        "  value3 = allData3.index[allData3['Scan ID'] == scan_id]\n",
        "  print(value1, value2, value3)\n",
        "  if len(value1) == 1:\n",
        "    return value1[0]\n",
        "  elif len(value2) == 1:\n",
        "    return value2[0]\n",
        "  elif len(value3) == 1:\n",
        "    return value3[0]\n",
        "  else:\n",
        "    raise Exception(\"Sorry, there is no scan with that ID\")"
      ],
      "metadata": {
        "id": "8uxUcHBSPGPG"
      },
      "execution_count": null,
      "outputs": []
    },
    {
      "cell_type": "markdown",
      "source": [
        "#### Examples Plots"
      ],
      "metadata": {
        "id": "gcrkm2KwbnqH"
      }
    },
    {
      "cell_type": "code",
      "source": [
        "from tensorflow import keras\n",
        "model1 = keras.models.load_model(root_path+'/Saved_Models/'+ model_name)"
      ],
      "metadata": {
        "id": "fYublSN4qkeF"
      },
      "execution_count": null,
      "outputs": []
    },
    {
      "cell_type": "markdown",
      "source": [
        "Load Dataframes"
      ],
      "metadata": {
        "id": "2qcgDq3Cyg6R"
      }
    },
    {
      "cell_type": "code",
      "source": [
        "nc_allData = pd.read_pickle(\"/content/drive/My Drive/dataset/pandas_dataframes/nc_allData.pkl\")\n",
        "mci_allData = pd.read_pickle(\"/content/drive/My Drive/dataset/pandas_dataframes/mci_allData.pkl\")\n",
        "ad_allData = pd.read_pickle(\"/content/drive/My Drive/dataset/pandas_dataframes/ad_allData.pkl\")"
      ],
      "metadata": {
        "id": "8J4kFKkRygKG"
      },
      "execution_count": null,
      "outputs": []
    },
    {
      "cell_type": "markdown",
      "source": [
        "Plots"
      ],
      "metadata": {
        "id": "u56R06_rsn0Y"
      }
    },
    {
      "cell_type": "code",
      "source": [
        "ID = 441\n",
        "slice_nr = 25\n",
        "type = \"Location_based\"\n",
        "target_classes = ['NC', 'AD']\n",
        "index = get_scan_index_in_Dataframe(nc_allData, mci_allData, ad_allData, ID)\n",
        "# show_normalized_scan(ID, slice_nr)\n",
        "# show_not_normalized_scan(ID, slice_nr)\n",
        "show_scan_with_fixations(ad_allData, slice_nr=slice_nr, scan_index=index, save=\"not save\")\n",
        "plt.show()\n",
        "show_scan_saliency_map(ID, slice_nr, type)\n",
        "# show_scan_saliency_map_ontop(ID, slice_nr, type)\n",
        "show_scan_fixed_saliency_map(slice_nr, type, target_classes)\n",
        "# show_scan_fixed_saliency_map_ontop(slice_nr, type, target_classes)\n",
        "show_model_attention_map(ID, slice_nr, model1, 239) # 239, 271, 279\n",
        "# show_scan_model_attention_ontop(ID, slice_nr, model1, 0)\n",
        "# show_model_attention_map(ID, slice_nr, model1, 1)\n",
        "# show_scan_model_attention_ontop(ID, slice_nr, model1, 1)\n",
        "# show_model_attention_map(ID, slice_nr, model1, 7)\n",
        "# show_scan_model_attention_ontop(ID, slice_nr, model1, 7)"
      ],
      "metadata": {
        "id": "70bmMhD2yKn3"
      },
      "execution_count": null,
      "outputs": []
    }
  ],
  "metadata": {
    "accelerator": "GPU",
    "colab": {
      "collapsed_sections": [
        "lok_sHRz4kDz",
        "Rj5LXtMvm2vk",
        "Z_5dmmdZaYTb",
        "-xKhuepTZoRl",
        "sT0QCACvqeGx",
        "WrLT6YxmZ-9n",
        "G8xtR82EbhRl"
      ],
      "provenance": [],
      "toc_visible": true
    },
    "kernelspec": {
      "display_name": "Python 3",
      "name": "python3"
    },
    "language_info": {
      "name": "python"
    }
  },
  "nbformat": 4,
  "nbformat_minor": 0
}
