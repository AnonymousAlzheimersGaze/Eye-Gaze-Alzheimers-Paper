{
  "cells": [
    {
      "cell_type": "markdown",
      "metadata": {
        "id": "view-in-github",
        "colab_type": "text"
      },
      "source": [
        "<a href=\"https://colab.research.google.com/github/AnonymousAlzheimersGaze/Eye-Gaze-Alzheimers-Paper/blob/main/Python_ResNet18_CBAM_middle.ipynb\" target=\"_parent\"><img src=\"https://colab.research.google.com/assets/colab-badge.svg\" alt=\"Open In Colab\"/></a>"
      ]
    },
    {
      "cell_type": "markdown",
      "metadata": {
        "id": "lJOYzMvBQ3lZ"
      },
      "source": [
        "# Imports, Drive and GPU"
      ]
    },
    {
      "cell_type": "code",
      "execution_count": null,
      "metadata": {
        "id": "To8bxiHdQVfV"
      },
      "outputs": [],
      "source": [
        "import pandas as pd # dataframes\n",
        "import numpy as np # vectors and matrixes\n",
        "import tensorflow as tf\n",
        "from sklearn.model_selection import StratifiedGroupKFold # cross-validation\n",
        "from sklearn.model_selection import GroupShuffleSplit, StratifiedShuffleSplit # separate train and test sets\n",
        "from sklearn.metrics import classification_report, confusion_matrix, roc_curve, roc_auc_score, auc, f1_score\n",
        "from sklearn.preprocessing import label_binarize\n",
        "import seaborn as sns # for confusion matrix\n",
        "from keras.utils.vis_utils import plot_model\n",
        "import matplotlib.pyplot as plt # plots\n",
        "from sklearn.preprocessing import MinMaxScaler # normalization\n",
        "from keras.callbacks import EarlyStopping, ModelCheckpoint, LearningRateScheduler\n",
        "from keras.models import load_model\n",
        "from statistics import mean, stdev\n",
        "import math\n",
        "from scipy.ndimage import zoom # resize scans and attention maps\n",
        "import copy\n",
        "from keras import Model # intermediate layer (fature extraction)\n",
        "# eliminate ramdomness to get reproducible results\n",
        "import os # to create directories\n",
        "os.environ['PYTHONHASHSEED']=str(7)\n",
        "import random\n",
        "random.seed(7)\n",
        "from numpy.random import seed\n",
        "seed(7)\n",
        "tf.random.set_seed(7)\n",
        "# to compute elapsed time of training\n",
        "import time \n",
        "from datetime import timedelta\n",
        "from tensorflow.keras.optimizers import SGD # to select sgd optimizer\n",
        "from requests import get # to get this Google Colab file name\n",
        "from tensorflow.keras.optimizers import Adam, SGD\n",
        "import collections # for verifies\n",
        "import shutil # to move files from directories\n",
        "from sklearn.utils.class_weight import compute_class_weight\n",
        "import json # for serialization\n",
        "from contextlib import redirect_stdout # to redirect the standard output to a file (print model summary)"
      ]
    },
    {
      "cell_type": "code",
      "execution_count": null,
      "metadata": {
        "colab": {
          "base_uri": "https://localhost:8080/"
        },
        "id": "tc211_D6qsjK",
        "outputId": "1c22c0a2-58a8-40d7-9f25-a8dd18bcdec8"
      },
      "outputs": [
        {
          "output_type": "stream",
          "name": "stdout",
          "text": [
            "Drive not mounted, so nothing to flush and unmount.\n",
            "Mounted at /content/drive/\n"
          ]
        }
      ],
      "source": [
        "from google.colab import drive, files # to use Google Drive\n",
        "drive.flush_and_unmount()\n",
        "drive.mount('/content/drive/') # connect to Google Drive\n",
        "root_path = '/content/drive/My Drive/dataset' # change directory to my Google Drive\n",
        "#root_path = 'G:\\My Drive\\dataset' # change directory to my device's database"
      ]
    },
    {
      "cell_type": "markdown",
      "metadata": {
        "id": "oRaQG0H_8_vI"
      },
      "source": [
        "Create directory for model metrics"
      ]
    },
    {
      "cell_type": "code",
      "execution_count": null,
      "metadata": {
        "id": "HjJDu16G85XU"
      },
      "outputs": [],
      "source": [
        "model_name = '/CBAM/'+get('http://172.28.0.2:9000/api/sessions').json()[0]['name']\n",
        "model_name = model_name[:len(model_name)-6]\n",
        "model_name = model_name.replace('%20', ' ')\n",
        "print(model_name)\n",
        "if not os.path.exists(root_path+'/Models_metrics'+ model_name):\n",
        "    os.makedirs(root_path+'/Models_metrics'+ model_name)"
      ]
    },
    {
      "cell_type": "markdown",
      "metadata": {
        "id": "7CECgYGUuTKn"
      },
      "source": [
        "Save GPU name"
      ]
    },
    {
      "cell_type": "code",
      "execution_count": null,
      "metadata": {
        "id": "dtVy_VJXRH61"
      },
      "outputs": [],
      "source": [
        "if os.path.isfile('/gpu_name.txt'):\n",
        "  print('exists in the destination path!')\n",
        "  os.remove('/gpu_name.txt')\n",
        "!nvidia-smi -L >> gpu_name.txt\n",
        "if os.path.isfile(root_path+'/Models_metrics'+ model_name+'/gpu_name.txt'):\n",
        "  print('exists in the destination path!')\n",
        "  os.remove(root_path+'/Models_metrics'+ model_name+'/gpu_name.txt')\n",
        "shutil.move('gpu_name.txt', root_path+'/Models_metrics'+ model_name)"
      ]
    },
    {
      "cell_type": "markdown",
      "metadata": {
        "id": "5HYntZ16MApn"
      },
      "source": [
        "# Setting Scan IDs, Subjects IDs and Scan Labels"
      ]
    },
    {
      "cell_type": "markdown",
      "metadata": {
        "id": "H-ZikUVSJ-UF"
      },
      "source": [
        "scan_ids - Identification of each scan\n",
        "\n",
        "labels - dictionary (key - scan ID; value - ground truth label)\n",
        "\n",
        "subject_id - dictionary (key - scan ID; value - subject id)"
      ]
    },
    {
      "cell_type": "code",
      "execution_count": null,
      "metadata": {
        "id": "BweTjZSbCla7"
      },
      "outputs": [],
      "source": [
        "# set a list with all the scan ids possible\n",
        "task = \"NC vs AD\" # (\"NC vs AD\" \"AD vs MCI\" \"NC vs MCI\" \"NC vs MCI vs AD\")"
      ]
    },
    {
      "cell_type": "code",
      "source": [
        "data_augmentation = 0\n",
        "if data_augmentation == 1:\n",
        "  pet_source = '/PETs_numpy_data_augmentation'\n",
        "else:\n",
        "  pet_source = '/PETs_numpy'"
      ],
      "metadata": {
        "id": "im8sNsPNES_D"
      },
      "execution_count": null,
      "outputs": []
    },
    {
      "cell_type": "code",
      "execution_count": null,
      "metadata": {
        "id": "SSF23-4sNFLe"
      },
      "outputs": [],
      "source": [
        "# load labels\n",
        "labels = np.load(root_path + pet_source + '/Labels/labels.npy', allow_pickle='TRUE')\n",
        "labels = labels.item()\n",
        "# load subject ids\n",
        "subject_id = np.load(root_path + pet_source + '/Subject_id/subject_id.npy', allow_pickle='TRUE')\n",
        "subject_id = subject_id.item() # it is a dictionary"
      ]
    },
    {
      "cell_type": "code",
      "execution_count": null,
      "metadata": {
        "id": "Y-0SY9QqAx0h"
      },
      "outputs": [],
      "source": [
        "nr_classes = 2\n",
        "if task == \"NC vs AD\":\n",
        "  # remove MCI information\n",
        "  labels = { key: val for key, val in labels.items() if val != 1}\n",
        "  scan_ids = list(labels.keys())\n",
        "  subject_id = { key: val for key, val in subject_id.items() if key in scan_ids }\n",
        "  # the class of AD is represented by nr 2, but we have to set it to 1 to be adapted for the model\n",
        "  labels = {x: 1 if labels[x] == 2 else labels[x] for x in labels }\n",
        "  target_classes = ['NC', 'AD']\n",
        "elif task == \"AD vs MCI\":\n",
        "  # remove NC information\n",
        "  labels = { key: val for key, val in labels.items() if val != 0}\n",
        "  scan_ids = list(labels.keys())\n",
        "  subject_id = { key: val for key, val in subject_id.items() if key in scan_ids }\n",
        "  # the class of AD is represented by nr 2, but we have to set it to 0 to be adapted for the model\n",
        "  labels = {x: 0 if labels[x] == 2 else labels[x] for x in labels }\n",
        "  target_classes = ['AD', 'MCI']\n",
        "elif task == \"NC vs MCI\":\n",
        "  # remove AD information\n",
        "  labels = { key: val for key, val in labels.items() if val != 2}\n",
        "  scan_ids = list(labels.keys())\n",
        "  subject_id = { key: val for key, val in subject_id.items() if key in scan_ids }\n",
        "  target_classes = ['NC', 'MCI']\n",
        "elif task == \"NC vs MCI vs AD\":\n",
        "  scan_ids = list(labels.keys())\n",
        "  nr_classes = 3\n",
        "  target_classes = ['NC', 'MCI', 'AD']\n",
        "\n",
        "# list with all the labels, alternative to dictionary (needed sometimes)\n",
        "labels_list = [ labels[id] for id in scan_ids ]\n",
        "# list with all the subjects ids, alternative to dictionary (needed sometimes)\n",
        "subject_id_list = [ subject_id[id] for id in scan_ids  ]"
      ]
    },
    {
      "cell_type": "markdown",
      "source": [
        "# Visualization"
      ],
      "metadata": {
        "id": "lok_sHRz4kDz"
      }
    },
    {
      "cell_type": "markdown",
      "source": [
        "Auxilary function to transform from 2D coordinates to 1D and vice versa"
      ],
      "metadata": {
        "id": "bjxl0ddPzG5N"
      }
    },
    {
      "cell_type": "code",
      "source": [
        "def coordinates_transform(point_vector_form):\n",
        "  fixation_image = np.zeros(128*128)\n",
        "  fixation_image[point_vector_form] = 1\n",
        "  fixation_image = fixation_image.reshape(128, 128)\n",
        "  coord_point = np.nonzero(fixation_image)\n",
        "  return coord_point\n",
        "\n",
        "def coordinates_untransform(point_x, point_y):\n",
        "  if 0 <= point_x <= 127 and 0 <= point_y <= 127: \n",
        "    pt = 128*point_x+point_y\n",
        "    return pt\n",
        "  else:\n",
        "    return False"
      ],
      "metadata": {
        "id": "lAs-7WyWzFDa"
      },
      "execution_count": null,
      "outputs": []
    },
    {
      "cell_type": "code",
      "source": [
        "# plot the scan\n",
        "def show_scan_plot(scan, slice_nr):\n",
        "  one_slice_2d = scan[:,:,slice_nr] # array with one slice of a single patient\n",
        "  plt.imshow(one_slice_2d, cmap='jet')\n",
        "  plt.colorbar()"
      ],
      "metadata": {
        "id": "zeq-jZRBzTVM"
      },
      "execution_count": null,
      "outputs": []
    },
    {
      "cell_type": "markdown",
      "source": [
        "Plot a slice of a scan with the corresponding fixations on top"
      ],
      "metadata": {
        "id": "kt9ClijKyr5m"
      }
    },
    {
      "cell_type": "code",
      "source": [
        "# plot the fixations on top of the scan\n",
        "def show_scan_with_fixations(allData, slice_nr, scan_index, save):\n",
        "\n",
        "  if allData.at[scan_index, 'Has Fix'] == 0 or allData.at[scan_index, 'Fixations'][slice_nr] == []: \n",
        "    print(\"There are no fixations for slice number \", slice_nr, \" of scan on row \", scan_index)\n",
        "    return\n",
        "\n",
        "  print(\"Subject \", allData.at[scan_index, 'Subject ID'])\n",
        "  print(\"Fixation points \", allData.at[scan_index, 'Durations'][slice_nr])\n",
        "\n",
        "  one_slice_2d = copy.deepcopy(allData.at[scan_index, 'Scan'][:,:,slice_nr]) # array with one slice of a single patient\n",
        "  \n",
        "  plt.imshow(one_slice_2d, cmap='jet')\n",
        "  plt.colorbar()\n",
        "\n",
        "  locations = allData.at[scan_index, 'Fixations'][slice_nr]\n",
        "  coord = coordinates_transform(locations)\n",
        "  plt.scatter(coord[0], coord[1])\n",
        "  \n",
        "  if save == \"save\":\n",
        "    plt.savefig(f\"/content/drive/My Drive/plots/scan_fixations_{allData.at[scan_index, 'Class']}_{slice_nr}_{allData.at[scan_index, 'Subject ID']}.pdf\", \n",
        "              bbox_inches =\"tight\")\n",
        "  \n",
        "  #plt.show() "
      ],
      "metadata": {
        "id": "3XFixVxgypjb"
      },
      "execution_count": null,
      "outputs": []
    },
    {
      "cell_type": "markdown",
      "metadata": {
        "id": "Rj5LXtMvm2vk"
      },
      "source": [
        "# Verification of correct process of stratified cross-validation (To use when programming)"
      ]
    },
    {
      "cell_type": "markdown",
      "source": [
        "Print the number of scans of a subject in the train and test dataset"
      ],
      "metadata": {
        "id": "H613t1rEzVih"
      }
    },
    {
      "cell_type": "code",
      "execution_count": null,
      "metadata": {
        "id": "HI8qqQbEm2Pu"
      },
      "outputs": [],
      "source": [
        "def print_scans_of_the_same_subject(subject_id, train_scans, test_scans):\n",
        "  subjects_train = [ subject_id[scan] for scan in train_scans ]\n",
        "  print(\"subject \", subject_id, \" has \", collections.Counter(subjects_train), \" in the train dataset\")\n",
        "\n",
        "  subjects_test = [ subject_id[scan] for scan in test_scans ]\n",
        "  print(\"subject \", subject_id, \" has \", collections.Counter(subjects_test), \" in the test dataset\")"
      ]
    },
    {
      "cell_type": "markdown",
      "source": [],
      "metadata": {
        "id": "IBIsDvQNzV9F"
      }
    },
    {
      "cell_type": "code",
      "execution_count": null,
      "metadata": {
        "id": "Jflw6Bs0nA1U"
      },
      "outputs": [],
      "source": [
        "def verify_veracity(index, subject_id_list, scan_ids, labels_list):\n",
        "  print(\"subject id \", subject_id_list[index])\n",
        "  print(\"scan \", scan_ids[index])\n",
        "  print(\"label \", labels_list[index])"
      ]
    },
    {
      "cell_type": "markdown",
      "source": [
        "Print list of subjects IDs for both classes (there cannot be an overlap)"
      ],
      "metadata": {
        "id": "M3ZrFwUizWeK"
      }
    },
    {
      "cell_type": "code",
      "execution_count": null,
      "metadata": {
        "id": "Hm2E12AMnCXt"
      },
      "outputs": [],
      "source": [
        "def verify_common_subjects(subject_id, train_scans, test_scans):\n",
        "  subjects_train = [ subject_id[scan] for scan in train_scans ]\n",
        "  print(subjects_train)\n",
        "  subjects_test = [ subject_id[scan] for scan in test_scans ]\n",
        "  print(subjects_test)\n",
        "  common_items = [ item for item in subjects_test if item in subjects_train ]\n",
        "  print(common_items)"
      ]
    },
    {
      "cell_type": "markdown",
      "source": [
        "Check the porportion of both classes in the train and test set"
      ],
      "metadata": {
        "id": "eSFR6l8wzXLS"
      }
    },
    {
      "cell_type": "code",
      "execution_count": null,
      "metadata": {
        "id": "qQeSGVB7nD13"
      },
      "outputs": [],
      "source": [
        "def verify_proportions(labels, train, test):\n",
        "  train_total = 0\n",
        "  train_count_class1 = 0\n",
        "  train_count_class2 = 0\n",
        "\n",
        "  for scan_id in train:\n",
        "    train_total +=1\n",
        "    if labels[scan_id] == 0:\n",
        "      train_count_class1 +=1\n",
        "    else:\n",
        "      train_count_class2 +=1\n",
        "\n",
        "  print(\"Train class1: \", round(train_count_class1/train_total, 2) ,\"class2: \", round(train_count_class2/train_total, 2))\n",
        "\n",
        "  test_total = 0\n",
        "  test_count_class1 = 0\n",
        "  test_count_class2 = 0\n",
        "\n",
        "  for scan_id in test:\n",
        "    test_total +=1\n",
        "    if labels[scan_id] == 0:\n",
        "      test_count_class1 +=1\n",
        "    else:\n",
        "      test_count_class2 +=1\n",
        "\n",
        "  print(\"Test class1: \", round(test_count_class1/test_total, 2) ,\"class2: \", round(test_count_class2/test_total, 2))"
      ]
    },
    {
      "cell_type": "markdown",
      "source": [
        "# CBAM Attention Block from ByungSoo Ko kobiso"
      ],
      "metadata": {
        "id": "Z_5dmmdZaYTb"
      }
    },
    {
      "cell_type": "markdown",
      "source": [
        "Code from: https://github.com/kobiso/CBAM-keras/blob/master/models/attention_module.py\n",
        "\n",
        "Adapted to 3D arrays"
      ],
      "metadata": {
        "id": "uEYwGa2Nm5o2"
      }
    },
    {
      "cell_type": "markdown",
      "source": [
        "![CBAM.png](data:image/png;base64,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)"
      ],
      "metadata": {
        "id": "WagbJTv3yxrz"
      }
    },
    {
      "cell_type": "code",
      "source": [
        "from tensorflow.keras.layers import (\n",
        "    GlobalAveragePooling3D, \n",
        "    GlobalMaxPooling3D, \n",
        "    Reshape, \n",
        "    Dense, \n",
        "    multiply, \n",
        "    Permute, \n",
        "    Concatenate, \n",
        "    Conv2D, Add, Activation, Lambda\n",
        ")\n",
        "from tensorflow.keras import backend as K\n",
        "from tensorflow.keras.activations import sigmoid\n",
        "\n",
        "\n",
        "def cbam_block(cbam_feature, ratio=8):\n",
        "\t\"\"\"Contains the implementation of Convolutional Block Attention Module(CBAM) block.\n",
        "\tAs described in https://arxiv.org/abs/1807.06521.\n",
        "\t\"\"\"\n",
        "\t\n",
        "\tcbam_feature = channel_attention(cbam_feature, ratio)\n",
        "\tcbam_feature = spatial_attention(cbam_feature)\n",
        "\treturn cbam_feature\n",
        "\n",
        "def channel_attention(input_feature, ratio=8):\n",
        "\t\n",
        "\tchannel_axis = 1 if K.image_data_format() == \"channels_first\" else -1\n",
        "\tchannel = input_feature.shape[channel_axis]\n",
        "\t\n",
        "\tshared_layer_one = Dense(channel//ratio,\n",
        "\t\t\t\t\t\t\t activation='relu',\n",
        "\t\t\t\t\t\t\t kernel_initializer='he_normal',\n",
        "\t\t\t\t\t\t\t use_bias=True,\n",
        "\t\t\t\t\t\t\t bias_initializer='zeros')\n",
        "\tshared_layer_two = Dense(channel,\n",
        "\t\t\t\t\t\t\t kernel_initializer='he_normal',\n",
        "\t\t\t\t\t\t\t use_bias=True,\n",
        "\t\t\t\t\t\t\t bias_initializer='zeros')\n",
        "\t\n",
        "\tavg_pool = GlobalAveragePooling3D()(input_feature)    \n",
        "\tavg_pool = Reshape((1,1,1,channel))(avg_pool)\n",
        "\tassert avg_pool.shape[1:] == (1,1,1,channel)\n",
        "\tavg_pool = shared_layer_one(avg_pool)\n",
        "\tassert avg_pool.shape[1:] == (1,1,1,channel//ratio)\n",
        "\tavg_pool = shared_layer_two(avg_pool)\n",
        "\tassert avg_pool.shape[1:] == (1,1,1,channel)\n",
        "\t\n",
        "\tmax_pool = GlobalMaxPooling3D()(input_feature)\n",
        "\tmax_pool = Reshape((1,1,1,channel))(max_pool)\n",
        "\tassert max_pool.shape[1:] == (1,1,1,channel)\n",
        "\tmax_pool = shared_layer_one(max_pool)\n",
        "\tassert max_pool.shape[1:] == (1,1,1,channel//ratio)\n",
        "\tmax_pool = shared_layer_two(max_pool)\n",
        "\tassert max_pool.shape[1:] == (1,1,1,channel)\n",
        "\t\n",
        "\tcbam_feature = Add()([avg_pool,max_pool])\n",
        "\tcbam_feature = Activation('sigmoid')(cbam_feature)\n",
        "\t\n",
        "\tif K.image_data_format() == \"channels_first\":\n",
        "\t\tcbam_feature = Permute((4, 1, 2, 3))(cbam_feature)\n",
        "\t\n",
        "\treturn multiply([input_feature, cbam_feature])\n",
        "\n",
        "def spatial_attention(input_feature):\n",
        "\tkernel_size = 7\n",
        "\t\n",
        "\tif K.image_data_format() == \"channels_first\":\n",
        "\t\tchannel = input_feature.shape[1]\n",
        "\t\tcbam_feature = Permute((2,3,4,1))(input_feature)\n",
        "\telse:\n",
        "\t\tchannel = input_feature.shape[-1]\n",
        "\t\tcbam_feature = input_feature\n",
        "\t\n",
        "\tavg_pool = Lambda(lambda x: K.mean(x, axis=-1, keepdims=True))(cbam_feature)\n",
        "\tassert avg_pool.shape[-1] == 1\n",
        "\tmax_pool = Lambda(lambda x: K.max(x, axis=-1, keepdims=True))(cbam_feature)\n",
        "\tassert max_pool.shape[-1] == 1\n",
        "\tconcat = Concatenate(axis=-1)([avg_pool, max_pool])\n",
        "\tassert concat.shape[-1] == 2\n",
        "\tcbam_feature = Conv3D(filters = 1,\n",
        "\t\t\t\t\tkernel_size=kernel_size,\n",
        "\t\t\t\t\tstrides=1,\n",
        "\t\t\t\t\tpadding='same',\n",
        "\t\t\t\t\tactivation='sigmoid',\n",
        "\t\t\t\t\tkernel_initializer='he_normal',\n",
        "\t\t\t\t\tuse_bias=False,\n",
        "\t\t\t\t\tname=\"att\"+\"_\"+str(spatial_attention.att_layer_nr))(concat)\n",
        "\t\t \n",
        "\tspatial_attention.att_layer_nr += 1\n",
        " \n",
        "\tassert cbam_feature.shape[-1] == 1\n",
        "\t\n",
        "\tif K.image_data_format() == \"channels_first\":\n",
        "\t\tcbam_feature = Permute((4, 1, 2, 3))(cbam_feature)\n",
        "\n",
        "\treturn multiply([input_feature, cbam_feature])\n",
        "spatial_attention.att_layer_nr = 0"
      ],
      "metadata": {
        "id": "1FFi_fQ0aU49"
      },
      "execution_count": null,
      "outputs": []
    },
    {
      "cell_type": "markdown",
      "metadata": {
        "id": "g8qEidKDQ7nf"
      },
      "source": [
        "# ResNet 3D from Jihong Ju"
      ]
    },
    {
      "cell_type": "markdown",
      "metadata": {
        "id": "I2fT5uTBJ74N"
      },
      "source": [
        "3D ResNet that accepts as input 3D arrays with multiple channels. PET scans are 3D arrays with one channel.\n",
        "\n",
        "This code was retrived from https://github.com/JihongJu/keras-resnet3d/blob/master/resnet3d/resnet3d.py with minor adaptations."
      ]
    },
    {
      "cell_type": "code",
      "execution_count": null,
      "metadata": {
        "id": "hMp-0J5hOzDJ"
      },
      "outputs": [],
      "source": [
        "from __future__ import (\n",
        "    absolute_import,\n",
        "    division,\n",
        "    print_function,\n",
        "    unicode_literals\n",
        ")\n",
        "import six\n",
        "import math\n",
        "from math import ceil\n",
        "from tensorflow.keras.models import Model\n",
        "from tensorflow.keras.layers import (\n",
        "    Input,\n",
        "    Activation,\n",
        "    Dense,\n",
        "    Flatten,\n",
        "    Conv3D,\n",
        "    AveragePooling3D,\n",
        "    MaxPooling3D,\n",
        "    add,\n",
        "    BatchNormalization\n",
        ")\n",
        "\n",
        "from tensorflow.keras.regularizers import l2\n",
        "from tensorflow.keras import backend as K\n",
        "\n",
        "\n",
        "## Resnet 3D architecture\n",
        "\n",
        "def _bn_relu(input):\n",
        "    \"\"\"Helper to build a BN -> relu block (by @raghakot).\"\"\"\n",
        "    norm = BatchNormalization(axis=CHANNEL_AXIS, momentum=0.99)(input)\n",
        "    return Activation(\"relu\")(norm)\n",
        "\n",
        "def _conv_bn_relu3D(**conv_params):\n",
        "    filters = conv_params[\"filters\"]\n",
        "    kernel_size = conv_params[\"kernel_size\"]\n",
        "    strides = conv_params.setdefault(\"strides\", (1, 1, 1))\n",
        "    kernel_initializer = conv_params.setdefault(\n",
        "        \"kernel_initializer\", \"he_normal\")\n",
        "    padding = conv_params.setdefault(\"padding\", \"same\")\n",
        "    kernel_regularizer = conv_params.setdefault(\"kernel_regularizer\",\n",
        "                                                l2(1e-4))\n",
        "\n",
        "    def f(input):\n",
        "        conv = Conv3D(filters=filters, kernel_size=kernel_size,\n",
        "                      strides=strides, kernel_initializer=kernel_initializer,\n",
        "                      padding=padding,\n",
        "                      kernel_regularizer=kernel_regularizer)(input)\n",
        "        return _bn_relu(conv)\n",
        "\n",
        "    return f\n",
        "\n",
        "def _bn_relu_conv3d(**conv_params):\n",
        "    \"\"\"Helper to build a  BN -> relu -> conv3d block.\"\"\"\n",
        "    filters = conv_params[\"filters\"]\n",
        "    kernel_size = conv_params[\"kernel_size\"]\n",
        "    strides = conv_params.setdefault(\"strides\", (1, 1, 1))\n",
        "    kernel_initializer = conv_params.setdefault(\"kernel_initializer\",\n",
        "                                                \"he_normal\")\n",
        "    padding = conv_params.setdefault(\"padding\", \"same\")\n",
        "    kernel_regularizer = conv_params.setdefault(\"kernel_regularizer\",\n",
        "                                                l2(1e-4))\n",
        "\n",
        "    def f(input):\n",
        "        activation = _bn_relu(input)\n",
        "        block = Conv3D(filters=filters, kernel_size=kernel_size,\n",
        "                      strides=strides, kernel_initializer=kernel_initializer,\n",
        "                      padding=padding,\n",
        "                      kernel_regularizer=kernel_regularizer)(activation)\n",
        "        return block\n",
        "    return f\n",
        "\n",
        "\n",
        "def _shortcut3d(input, residual):\n",
        "    \"\"\"3D shortcut to match input and residual and merges them with \"sum\".\"\"\"\n",
        "    stride_dim1 = math.ceil(int(input.shape[DIM1_AXIS]) \\\n",
        "        / int(residual.shape[DIM1_AXIS]))\n",
        "    stride_dim2 = math.ceil(int(input.shape[DIM2_AXIS]) \\\n",
        "        / int(residual.shape[DIM2_AXIS]))\n",
        "    stride_dim3 = math.ceil(int(input.shape[DIM3_AXIS]) \\\n",
        "        / int(residual.shape[DIM3_AXIS]))\n",
        "    equal_channels = int(residual.shape[CHANNEL_AXIS]) \\\n",
        "        == int(input.shape[CHANNEL_AXIS])\n",
        "\n",
        "    shortcut = input\n",
        "    if stride_dim1 > 1 or stride_dim2 > 1 or stride_dim3 > 1 \\\n",
        "            or not equal_channels:\n",
        "        shortcut = Conv3D(\n",
        "            filters=int(residual.shape[CHANNEL_AXIS]),\n",
        "            kernel_size=(1, 1, 1),\n",
        "            strides=(stride_dim1, stride_dim2, stride_dim3),\n",
        "            kernel_initializer=\"he_normal\", padding=\"valid\",\n",
        "            kernel_regularizer=l2(1e-4)\n",
        "            )(input)\n",
        "    return add([shortcut, residual])\n",
        "\n",
        "\n",
        "def _residual_block3d(block_function, filters, kernel_regularizer, repetitions,\n",
        "                      is_first_layer=False, phase=1):\n",
        "    def f(input):\n",
        "        for i in range(repetitions):\n",
        "            strides = (1, 1, 1)\n",
        "            if i == 0 and not is_first_layer:\n",
        "                strides = (2, 2, 2)\n",
        "            input = block_function(filters=filters, strides=strides,\n",
        "                                   kernel_regularizer=kernel_regularizer,\n",
        "                                   is_first_block_of_first_layer=(\n",
        "                                       is_first_layer and i == 0), stage=(\n",
        "                                           phase==1 and i==1)\n",
        "                                   )(input)\n",
        "        return input\n",
        "\n",
        "    return f\n",
        "\n",
        "\n",
        "def basic_block(filters, strides=(1, 1, 1), kernel_regularizer=l2(1e-4),\n",
        "                is_first_block_of_first_layer=False, stage=1):\n",
        "    \"\"\"Basic 3 X 3 X 3 convolution blocks. Extended from raghakot's 2D impl.\"\"\"\n",
        "    def f(input):\n",
        "        if is_first_block_of_first_layer:\n",
        "            # don't repeat bn->relu since we just did bn->relu->maxpool\n",
        "            conv1 = Conv3D(filters=filters, kernel_size=(3, 3, 3),\n",
        "                           strides=strides, padding=\"same\",\n",
        "                           kernel_initializer=\"he_normal\",\n",
        "                           kernel_regularizer=kernel_regularizer\n",
        "                           )(input)\n",
        "        else:\n",
        "            conv1 = _bn_relu_conv3d(filters=filters,\n",
        "                                    kernel_size=(3, 3, 3),\n",
        "                                    strides=strides,\n",
        "                                    kernel_regularizer=kernel_regularizer\n",
        "                                    )(input)\n",
        "\n",
        "        residual = _bn_relu_conv3d(filters=filters, kernel_size=(3, 3, 3),\n",
        "                                   kernel_regularizer=kernel_regularizer\n",
        "                                   )(conv1)\n",
        "        if stage == 1:\n",
        "          residual = cbam_block(residual)\n",
        "        return _shortcut3d(input, residual)\n",
        "\n",
        "    return f\n",
        "\n",
        "\n",
        "def bottleneck(filters, strides=(1, 1, 1), kernel_regularizer=l2(1e-4),\n",
        "               is_first_block_of_first_layer=False):\n",
        "    \"\"\"Basic 3 X 3 X 3 convolution blocks. Extended from raghakot's 2D impl.\"\"\"\n",
        "    def f(input):\n",
        "        if is_first_block_of_first_layer:\n",
        "            # don't repeat bn->relu since we just did bn->relu->maxpool\n",
        "            conv_1_1 = Conv3D(filters=filters, kernel_size=(1, 1, 1),\n",
        "                              strides=strides, padding=\"same\",\n",
        "                              kernel_initializer=\"he_normal\",\n",
        "                              kernel_regularizer=kernel_regularizer\n",
        "                              )(input)\n",
        "        else:\n",
        "            conv_1_1 = _bn_relu_conv3d(filters=filters, kernel_size=(1, 1, 1),\n",
        "                                       strides=strides,\n",
        "                                       kernel_regularizer=kernel_regularizer\n",
        "                                       )(input)\n",
        "\n",
        "        conv_3_3 = _bn_relu_conv3d(filters=filters, kernel_size=(3, 3, 3),\n",
        "                                   kernel_regularizer=kernel_regularizer\n",
        "                                   )(conv_1_1)\n",
        "        residual = _bn_relu_conv3d(filters=filters * 4, kernel_size=(1, 1, 1),\n",
        "                                   kernel_regularizer=kernel_regularizer\n",
        "                                   )(conv_3_3)\n",
        "\n",
        "        return _shortcut3d(input, residual)\n",
        "\n",
        "    return f\n",
        "\n",
        "\n",
        "def _handle_data_format():\n",
        "    global DIM1_AXIS\n",
        "    global DIM2_AXIS\n",
        "    global DIM3_AXIS\n",
        "    global CHANNEL_AXIS\n",
        "    if K.image_data_format() == 'channels_last':\n",
        "        print(\"here CHANNELS last\")\n",
        "        DIM1_AXIS = 1\n",
        "        DIM2_AXIS = 2\n",
        "        DIM3_AXIS = 3\n",
        "        CHANNEL_AXIS = 4\n",
        "    else:\n",
        "        CHANNEL_AXIS = 1\n",
        "        DIM1_AXIS = 2\n",
        "        DIM2_AXIS = 3\n",
        "        DIM3_AXIS = 4\n",
        "\n",
        "\n",
        "def _get_block(identifier):\n",
        "    if isinstance(identifier, six.string_types):\n",
        "        res = globals().get(identifier)\n",
        "        if not res:\n",
        "            raise ValueError('Invalid {}'.format(identifier))\n",
        "        return res\n",
        "    return identifier\n",
        "\n",
        "\n",
        "class Resnet3DBuilder(object):\n",
        "    \"\"\"ResNet3D.\"\"\"\n",
        "\n",
        "    @staticmethod\n",
        "    def build(input_shape, num_outputs, block_fn, repetitions, reg_factor):\n",
        "        \"\"\"Instantiate a vanilla ResNet3D keras model.\n",
        "        # Arguments\n",
        "            input_shape: Tuple of input shape in the format\n",
        "            (conv_dim1, conv_dim2, conv_dim3, channels) if dim_ordering='tf'\n",
        "            (filter, conv_dim1, conv_dim2, conv_dim3) if dim_ordering='th'\n",
        "            num_outputs: The number of outputs at the final softmax layer\n",
        "            block_fn: Unit block to use {'basic_block', 'bottlenack_block'}\n",
        "            repetitions: Repetitions of unit blocks\n",
        "        # Returns\n",
        "            model: a 3D ResNet model that takes a 5D tensor (volumetric images\n",
        "            in batch) as input and returns a 1D vector (prediction) as output.\n",
        "        \"\"\"\n",
        "        _handle_data_format()\n",
        "        if len(input_shape) != 4:\n",
        "            raise ValueError(\"Input shape should be a tuple \"\n",
        "                             \"(conv_dim1, conv_dim2, conv_dim3, channels) \"\n",
        "                             \"for tensorflow as backend or \"\n",
        "                             \"(channels, conv_dim1, conv_dim2, conv_dim3) \"\n",
        "                             \"for theano as backend\")\n",
        "\n",
        "        block_fn = _get_block(block_fn)\n",
        "        input = Input(shape=input_shape)\n",
        "        \n",
        "        # first conv\n",
        "        conv1 = _conv_bn_relu3D(filters=64, kernel_size=(7, 7, 7),\n",
        "                                strides=(2, 2, 2),\n",
        "                                kernel_regularizer=l2(reg_factor)\n",
        "                                )(input)\n",
        "        pool1 = MaxPooling3D(pool_size=(3, 3, 3), strides=(2, 2, 2),\n",
        "                             padding=\"same\")(conv1)\n",
        "\n",
        "        # repeat blocks\n",
        "        block = pool1\n",
        "        filters = 64\n",
        "        for i, r in enumerate(repetitions):\n",
        "            block = _residual_block3d(block_fn, filters=filters,\n",
        "                                      kernel_regularizer=l2(reg_factor),\n",
        "                                      repetitions=r, is_first_layer=(i == 0), phase=i\n",
        "                                      )(block)\n",
        "            filters *= 2\n",
        "\n",
        "        # last activation\n",
        "        block_output = _bn_relu(block)\n",
        "\n",
        "        # average poll and classification\n",
        "        pool2 = AveragePooling3D(pool_size=(int(block.shape[DIM1_AXIS]),\n",
        "                                            int(block.shape[DIM2_AXIS]),\n",
        "                                            int(block.shape[DIM3_AXIS])),\n",
        "                                 strides=(1, 1, 1))(block_output)\n",
        "        flatten1 = Flatten()(pool2)\n",
        "        if num_outputs > 1:\n",
        "            dense = Dense(units=num_outputs,\n",
        "                          kernel_initializer=\"he_normal\",\n",
        "                          activation=\"softmax\",\n",
        "                          kernel_regularizer=l2(reg_factor))(flatten1)\n",
        "        else:\n",
        "            dense = Dense(units=num_outputs,\n",
        "                          kernel_initializer=\"he_normal\",\n",
        "                          activation=\"sigmoid\",\n",
        "                          kernel_regularizer=l2(reg_factor))(flatten1)\n",
        "\n",
        "        model = Model(inputs=input, outputs=dense)\n",
        "        return model\n",
        "\n",
        "    @staticmethod\n",
        "    def build_resnet_18(input_shape, num_outputs, reg_factor=1e-4):\n",
        "        \"\"\"Build resnet 18.\"\"\"\n",
        "        return Resnet3DBuilder.build(input_shape, num_outputs, basic_block,\n",
        "                                     [2,2,2,2], reg_factor=reg_factor)\n",
        "\n",
        "    @staticmethod\n",
        "    def build_resnet_34(input_shape, num_outputs, reg_factor=1e-4):\n",
        "        \"\"\"Build resnet 34.\"\"\"\n",
        "        return Resnet3DBuilder.build(input_shape, num_outputs, basic_block,\n",
        "                                     [3, 4, 6, 3], reg_factor=reg_factor)\n",
        "\n",
        "    @staticmethod\n",
        "    def build_resnet_50(input_shape, num_outputs, reg_factor=1e-4):\n",
        "        \"\"\"Build resnet 50.\"\"\"\n",
        "        return Resnet3DBuilder.build(input_shape, num_outputs, bottleneck,\n",
        "                                     [3, 4, 6, 3], reg_factor=reg_factor)\n",
        "\n",
        "    @staticmethod\n",
        "    def build_resnet_101(input_shape, num_outputs, reg_factor=1e-4):\n",
        "        \"\"\"Build resnet 101.\"\"\"\n",
        "        return Resnet3DBuilder.build(input_shape, num_outputs, bottleneck,\n",
        "                                     [3, 4, 23, 3], reg_factor=reg_factor)\n",
        "\n",
        "    @staticmethod\n",
        "    def build_resnet_152(input_shape, num_outputs, reg_factor=1e-4):\n",
        "        \"\"\"Build resnet 152.\"\"\"\n",
        "        return Resnet3DBuilder.build(input_shape, num_outputs, bottleneck,\n",
        "                                     [3, 8, 36, 3], reg_factor=reg_factor)"
      ]
    },
    {
      "cell_type": "markdown",
      "metadata": {
        "id": "-xKhuepTZoRl"
      },
      "source": [
        "# Data Generator"
      ]
    },
    {
      "cell_type": "markdown",
      "metadata": {
        "id": "TNGxnmI1KJo6"
      },
      "source": [
        "All data does not fit in memory during training, therefore a data generator is used. An instance of this data generator transfers to memory a small amount of samples each time, so the model can train with that small amount of samples. In the next iteration, transfers the next set of samples and so on."
      ]
    },
    {
      "cell_type": "code",
      "execution_count": null,
      "metadata": {
        "id": "0ovh4NMnZsLA"
      },
      "outputs": [],
      "source": [
        "class DataGenerator(tf.keras.utils.Sequence):\n",
        "    'Generates data for Keras'\n",
        "    def __init__(self, list_IDs, labels, batch_size=32, dim=(128,128,60), n_channels=1,\n",
        "                 n_classes=2, shuffle=True):\n",
        "        'Initialization'\n",
        "        self.dim = dim\n",
        "        self.batch_size = batch_size\n",
        "        self.labels = labels\n",
        "        self.list_IDs = list_IDs\n",
        "        self.n_channels = n_channels\n",
        "        self.n_classes = n_classes\n",
        "        self.shuffle = shuffle\n",
        "        self.on_epoch_end()\n",
        "\n",
        "    def __len__(self):\n",
        "        'Denotes the number of batches per epoch'\n",
        "        return int(np.floor(len(self.list_IDs) / self.batch_size))\n",
        "\n",
        "    def __getitem__(self, index):\n",
        "        'Generate one batch of data'\n",
        "        # Generate indexes of the batch\n",
        "        indexes = self.indexes[index*self.batch_size:(index+1)*self.batch_size]\n",
        "\n",
        "        # Find list of IDs\n",
        "        list_IDs_temp = [self.list_IDs[k] for k in indexes]\n",
        "\n",
        "        # Generate data\n",
        "        X, y = self.__data_generation(list_IDs_temp)\n",
        "\n",
        "        return X, y\n",
        "\n",
        "    def on_epoch_end(self):\n",
        "        'Updates indexes after each epoch'\n",
        "        self.indexes = np.arange(len(self.list_IDs))\n",
        "        if self.shuffle == True:\n",
        "            np.random.shuffle(self.indexes)\n",
        "\n",
        "    def __data_generation(self, list_IDs_temp):\n",
        "        'Generates data containing batch_size samples' # X : (n_samples, *dim, n_channels)\n",
        "        # Initialization\n",
        "        X = np.empty((self.batch_size, *self.dim))\n",
        "        y = np.empty((self.batch_size), dtype=int)\n",
        "\n",
        "        # Generate data\n",
        "        for i, ID in enumerate(list_IDs_temp):\n",
        "            # Store sample\n",
        "            X[i,] = np.load(root_path + pet_source + '/python_normalized_reshaped/' + str(ID) + '.npy')\n",
        "\n",
        "            # Store class\n",
        "            y[i] = self.labels[ID]\n",
        "\n",
        "        if self.n_classes > 1:\n",
        "          y = tf.keras.utils.to_categorical(y, num_classes=self.n_classes)\n",
        "\n",
        "        return X, y"
      ]
    },
    {
      "cell_type": "markdown",
      "source": [
        "# Testing Metrics"
      ],
      "metadata": {
        "id": "sT0QCACvqeGx"
      }
    },
    {
      "cell_type": "markdown",
      "source": [
        "Metrics: accuracy, confusion matrix, sensistivity, specificity, ROC, AUC"
      ],
      "metadata": {
        "id": "l5cF-DkBqq5C"
      }
    },
    {
      "cell_type": "code",
      "source": [
        "# only for multiclass classification\n",
        "def plot_ROC_AUC_multiclass(y_true,  y_pred, iteration):\n",
        "\n",
        "  # roc curve for classes\n",
        "  fpr = {}\n",
        "  tpr = {}\n",
        "\n",
        "  for i in range(nr_classes):\n",
        "      fpr[i], tpr[i], _ = roc_curve(y_true, y_pred, pos_label=i)\n",
        "  \n",
        "  y_true = label_binarize(y_true, classes=[0, 1, 2])\n",
        "  y_pred = label_binarize(y_pred, classes=[0, 1, 2])\n",
        "  auc = roc_auc_score(y_true, y_pred, multi_class=\"ovr\", average=None)\n",
        "      \n",
        "  # plotting\n",
        "  plt.rcParams.update(plt.rcParamsDefault) # reset plot configurations\n",
        "  plt.plot(fpr[0], tpr[0], linestyle='--',color='orange', label=target_classes[0]+' vs Rest'+\" | AUC = %0.2f\" % auc[0])\n",
        "  plt.plot(fpr[1], tpr[1], linestyle='--',color='green', label=target_classes[1]+' vs Rest'+\" | AUC = %0.2f\" % auc[1])\n",
        "  plt.plot(fpr[2], tpr[2], linestyle='--',color='red', label=target_classes[2]+' vs Rest'+\" | AUC = %0.2f\" % auc[2])\n",
        "  plt.plot([0, 1], [0, 1], color=\"navy\", lw=2, linestyle=\"--\")\n",
        "  plt.xlim([0.0, 1.0])\n",
        "  plt.ylim([0.0, 1.05])\n",
        "  plt.xlabel('False Positive Rate')\n",
        "  plt.ylabel('True Positive rate')\n",
        "  plt.legend(loc='lower right')\n",
        "  plt.savefig(f\"{root_path}/Models_metrics{model_name}/ROC_AUC_{iteration}.pdf\", bbox_inches =\"tight\")\n",
        "  plt.show()"
      ],
      "metadata": {
        "id": "-BS-BD-fvmSN"
      },
      "execution_count": null,
      "outputs": []
    },
    {
      "cell_type": "code",
      "source": [
        "# only for binary classification\n",
        "def plot_ROC_AUC(y_true,  y_pred, auc_metric, iteration):\n",
        "  fpr, tpr, _ = roc_curve(y_true,  y_pred)\n",
        "  auc = roc_auc_score(y_true, y_pred)\n",
        "  auc_metric.append(auc)\n",
        "  \n",
        "  plt.rcParams.update(plt.rcParamsDefault) # reset plot configurations\n",
        "\n",
        "  # plot\n",
        "  plt.figure()\n",
        "  plt.plot(fpr, tpr, color=\"darkorange\", lw=2, \n",
        "           label=\"AUC = %0.2f\" % auc)\n",
        "  plt.plot([0, 1], [0, 1], color=\"navy\", lw=2, linestyle=\"--\")\n",
        "  plt.xlim([0.0, 1.0])\n",
        "  plt.ylim([0.0, 1.05])\n",
        "  plt.xlabel(\"False Positive Rate\")\n",
        "  plt.ylabel(\"True Positive Rate\")\n",
        "  plt.legend(loc=\"lower right\")\n",
        "  plt.savefig(f\"{root_path}/Models_metrics{model_name}/ROC_AUC_{iteration}.pdf\", bbox_inches =\"tight\")\n",
        "  plt.show()"
      ],
      "metadata": {
        "id": "-kLrLqLCpcDg"
      },
      "execution_count": null,
      "outputs": []
    },
    {
      "cell_type": "markdown",
      "source": [
        "Plot confusion matrix and accuracy"
      ],
      "metadata": {
        "id": "IFesglxUgrA_"
      }
    },
    {
      "cell_type": "code",
      "source": [
        "def conf_matrix(y_true, y_pred, test_acc, iteration):\n",
        "  c_m = confusion_matrix(y_true, y_pred)\n",
        "\n",
        "  # compute accuracy\n",
        "  test_acc.append(round(np.trace(c_m)/c_m.sum(), 4)*100)\n",
        "  print(\"Test accuracy for every iteration \", test_acc)\n",
        "\n",
        "  cm = c_m.astype('float') / c_m.sum(axis=1)[:,None] # normalize\n",
        "  cm = cm.round(2)\n",
        "  cm = pd.DataFrame(cm, index = target_classes, columns = target_classes)\n",
        "\n",
        "  #plot\n",
        "  plt.figure(figsize = (4,4))\n",
        "  sns.set(font_scale=1.4) # for label size\n",
        "  hm = sns.heatmap(cm, annot=True, cmap = \"Blues\", annot_kws={\"size\": 25}, cbar=False)\n",
        "  hm.set_xlabel(\"Predicted Labels\")\n",
        "  hm.set_ylabel(\"Actual Labels\")\n",
        "  plt.savefig(f\"{root_path}/Models_metrics{model_name}/conf_matrix_{iteration}.pdf\", bbox_inches =\"tight\")\n",
        "  plt.show()\n",
        "  return c_m"
      ],
      "metadata": {
        "id": "5aKnB9qfo9q7"
      },
      "execution_count": null,
      "outputs": []
    },
    {
      "cell_type": "markdown",
      "source": [
        "Given a confusion matrix compute sensitivity and specificity."
      ],
      "metadata": {
        "id": "wGnLB2eBrCFf"
      }
    },
    {
      "cell_type": "code",
      "source": [
        "def compute_sen_spec(cm, sen_metric, spec_metric):\n",
        "  sen = cm[1][1] / (cm[1][1]+cm[1][0])\n",
        "  spec = cm[0][0] / (cm[0][0]+cm[0][1])\n",
        "  sen_metric.append(sen)\n",
        "  spec_metric.append(spec)\n",
        "  print(\"sensitivity \", round(sen,4)*100, \" %\")\n",
        "  print(\"specificity \", round(spec,4)*100, \" %\")"
      ],
      "metadata": {
        "id": "d0CMFvJkgNhg"
      },
      "execution_count": null,
      "outputs": []
    },
    {
      "cell_type": "markdown",
      "source": [
        "Agloremation of all the metrics in one function"
      ],
      "metadata": {
        "id": "JgA_lkwDKVzw"
      }
    },
    {
      "cell_type": "code",
      "source": [
        "def metrics(y_pred_orig, y_true, test_metrics, iteration):\n",
        "  # metrics: acc, confusion matrix, sen, spec, ROC, AUC\n",
        "  if nr_classes == 3:\n",
        "    y_pred = list(np.argmax(y_pred_orig, axis=1))\n",
        "    print(classification_report(y_true, y_pred, target_names=target_classes))\n",
        "    test_metrics['f1'].append(round(f1_score(y_true, y_pred), 2))\n",
        "    print(\"f1-score \", test_metrics['f1'])\n",
        "    conf_matrix(y_true, y_pred, test_metrics['acc'], iteration)\n",
        "    y_pred_orig = [item for sublist in y_pred_orig for item in sublist]\n",
        "    plot_ROC_AUC_multiclass(y_true,  y_pred_orig, iteration)  \n",
        "  else:\n",
        "    y_pred = list(np.argmax(y_pred_orig, axis=1))\n",
        "    print(classification_report(y_true, y_pred, target_names=target_classes))\n",
        "    test_metrics['f1'].append(round(f1_score(y_true, y_pred), 2))\n",
        "    print(\"f1-score \", test_metrics['f1'])\n",
        "    c_m = conf_matrix(y_true, y_pred, test_metrics['acc'], iteration)\n",
        "    compute_sen_spec(c_m, test_metrics['sen'], test_metrics['spec'])\n",
        "    plot_ROC_AUC(y_true, y_pred_orig[:,1], test_metrics['auc'], iteration)"
      ],
      "metadata": {
        "id": "UowKhOIjIHRg"
      },
      "execution_count": null,
      "outputs": []
    },
    {
      "cell_type": "code",
      "source": [
        "def show_means_metrics(test_metric):\n",
        "  test_means = {'acc': {}, 'f1': {}, 'sen': {}, 'spec': {}, 'auc': {}}\n",
        "  test_means['acc']['avg'] = round(mean(test_metric['acc']),4)\n",
        "  test_means['acc']['std'] = round(stdev(test_metric['acc']), 4)\n",
        "  print(\"Mean test accuracy \", test_means['acc']['avg'])\n",
        "  print(\"Standard deviation accuracy \", test_means['acc']['std'])\n",
        "\n",
        "  test_means['f1']['avg'] = round(mean(test_metric['f1']), 4)\n",
        "  test_means['f1']['std'] = round(stdev(test_metric['f1']), 4)\n",
        "  print(\"Mean test f1_score \", test_means['f1']['avg'])\n",
        "  print(\"Standard deviation f1_score \", test_means['f1']['std'])\n",
        "\n",
        "  test_means['sen']['avg'] = round(mean(test_metric['sen']), 4)\n",
        "  test_means['sen']['std'] = round(stdev(test_metric['sen']), 4)\n",
        "  print(\"Mean test sensitivity \", test_means['sen']['avg'])\n",
        "  print(\"Standard deviation sensitivity \", test_means['sen']['std'])\n",
        "\n",
        "  test_means['spec']['avg'] = round(mean(test_metric['spec']), 4)\n",
        "  test_means['spec']['std'] = round(stdev(test_metric['spec']), 4)\n",
        "  print(\"Mean test specificity \", test_means['spec']['avg'])\n",
        "  print(\"Standard deviation specificity \", test_means['spec']['std'])\n",
        "\n",
        "  test_means['auc']['avg'] = round(mean(test_metric['auc']), 4)\n",
        "  test_means['auc']['std'] = round(stdev(test_metric['auc']), 4)\n",
        "  print(\"Mean test AUC \", test_means['auc']['avg'])\n",
        "  print(\"Standard deviation AUC \", test_means['auc']['std'])\n",
        "\n",
        "  return test_means"
      ],
      "metadata": {
        "id": "JBmYqIJbUjoB"
      },
      "execution_count": null,
      "outputs": []
    },
    {
      "cell_type": "markdown",
      "metadata": {
        "id": "WrLT6YxmZ-9n"
      },
      "source": [
        "# Training parameters\n",
        "\n"
      ]
    },
    {
      "cell_type": "markdown",
      "metadata": {
        "id": "fZ6gVcoNTGYp"
      },
      "source": [
        "Training of the netork with cross-validation. Several validations were made for different hyperparameters, like batch size, nr of layers, normalization block's momentum."
      ]
    },
    {
      "cell_type": "code",
      "execution_count": null,
      "metadata": {
        "id": "le2uC81Sv0VV"
      },
      "outputs": [],
      "source": [
        "# Parameters\n",
        "params = {'dim': (128,128,60),\n",
        "          'batch_size': 16,\n",
        "          'n_classes': nr_classes,\n",
        "          'n_channels': 1,\n",
        "          'shuffle': False}\n",
        "\n",
        "params_test = {'dim': (128,128,60),\n",
        "          'batch_size': 1,\n",
        "          'n_classes': nr_classes,\n",
        "          'n_channels': 1,\n",
        "          'shuffle': False}"
      ]
    },
    {
      "cell_type": "markdown",
      "metadata": {
        "id": "nk95NyUXsFkW"
      },
      "source": [
        "Plots of accuracy and loss along epochs during training"
      ]
    },
    {
      "cell_type": "code",
      "execution_count": null,
      "metadata": {
        "id": "fc7WN1O3z-uD"
      },
      "outputs": [],
      "source": [
        "def graph_accuracy_loss(history, iteration):\n",
        "  # summarize history for accuracy\n",
        "  plt.plot(history.history['accuracy'], marker='o')\n",
        "  plt.plot(history.history['val_accuracy'], marker='o')\n",
        "  plt.ylabel('accuracy')\n",
        "  plt.ylim([0, 1])\n",
        "  plt.xlabel('epoch')\n",
        "  plt.legend(['train', 'validation'], loc='lower right')\n",
        "  plt.grid()\n",
        "  plt.savefig(f\"{root_path}/Models_metrics{model_name}/accuracy_epochs_{iteration}.pdf\", bbox_inches =\"tight\")\n",
        "  plt.show()\n",
        "\n",
        "  # summarize history for loss\n",
        "  plt.plot(history.history['loss'], marker='o')\n",
        "  plt.plot(history.history['val_loss'], marker='o')\n",
        "  plt.ylabel('loss')\n",
        "  plt.xlabel('epoch')\n",
        "  plt.legend(['train', 'validation'], loc='upper right')\n",
        "  plt.grid()\n",
        "  plt.savefig(f\"{root_path}/Models_metrics{model_name}/loss_epochs_{iteration}.pdf\", bbox_inches =\"tight\")\n",
        "  plt.show()"
      ]
    },
    {
      "cell_type": "markdown",
      "source": [
        "Train and validation accuracy average for a certain number of epochs"
      ],
      "metadata": {
        "id": "faaz3pNOKIv1"
      }
    },
    {
      "cell_type": "code",
      "execution_count": null,
      "metadata": {
        "id": "6ZlAtnYCjqQX"
      },
      "outputs": [],
      "source": [
        "def print_avg_acc(history, nr_epochs):\n",
        "  acc = np.array(history.history['accuracy'][-nr_epochs:]) * 100\n",
        "  avg_acc = mean(acc)\n",
        "\n",
        "  val_acc = np.array(history.history['val_accuracy'][-nr_epochs:]) * 100\n",
        "  avg_val_acc = mean(val_acc)\n",
        "  \n",
        "  print('Average Accuracy Train: %.2f, Validation: %.2f' % (avg_acc, avg_val_acc))\n",
        "  return"
      ]
    },
    {
      "cell_type": "markdown",
      "source": [
        "Train and validation accuracy standard deviation for a certain number of epochs"
      ],
      "metadata": {
        "id": "hbiuaIMnJ_jB"
      }
    },
    {
      "cell_type": "code",
      "execution_count": null,
      "metadata": {
        "id": "Zy9udM33mPE0"
      },
      "outputs": [],
      "source": [
        "def print_acc_std_dev(history, nr_epochs):\n",
        "  acc = np.array(history.history['accuracy'][-nr_epochs:]) * 100\n",
        "  var_acc = np.var(acc)\n",
        "  var_acc = math.sqrt(var_acc)\n",
        "\n",
        "  val_acc = np.array(history.history['val_accuracy'][-nr_epochs:]) * 100\n",
        "  var_val_acc = np.var(val_acc)\n",
        "  var_val_acc = math.sqrt(var_val_acc)\n",
        "\n",
        "  print('Accuracy Standard deviation Train: %.2f, Validation: %.2f' % (var_acc, var_val_acc))"
      ]
    },
    {
      "cell_type": "markdown",
      "metadata": {
        "id": "gNyzOoXKQhcW"
      },
      "source": [
        "# Testing with cross-validation"
      ]
    },
    {
      "cell_type": "code",
      "execution_count": null,
      "metadata": {
        "id": "0A3qFTkypCAW"
      },
      "outputs": [],
      "source": [
        "test_metric = {\n",
        "  'acc': [],\n",
        "  'f1': [],\n",
        "  'sen': [],\n",
        "  'spec': [],\n",
        "  'auc': []}\n",
        "\n",
        "final_model = []\n",
        "\n",
        "start = time.time()\n",
        "\n",
        "# stratified k fold cross-validation with scans of the same subject in the same fold\n",
        "# split training and test set\n",
        "# these two sets do not contain overlapping subjects\n",
        "# these two sets have the same proportion of both classes\n",
        "sgkf = StratifiedGroupKFold(n_splits=5, shuffle=True, random_state=7)\n",
        "\n",
        "for iteration, (train, test) in enumerate(sgkf.split(scan_ids, labels_list, subject_id_list)):\n",
        "  print('Iteration number: ', iteration)\n",
        "  # to save best model\n",
        "  mc = ModelCheckpoint('best_model.h5', monitor='val_loss', mode='min', save_best_only=True)\n",
        "\n",
        "  # obtain scans ID\n",
        "  train = [ scan_ids[index] for index in train ]\n",
        "  test = [ scan_ids[index] for index in test ]\n",
        "\n",
        "  verify_proportions(labels, train, test)\n",
        "\n",
        "  # create network\n",
        "  spatial_attention.att_layer_nr = 0 # reinizialize the attention layer number\n",
        "  net = Resnet3DBuilder()\n",
        "  if nr_classes == 2:\n",
        "    model = net.build_resnet_18((128, 128, 60, 1), num_outputs=2)\n",
        "    model.compile(loss='binary_crossentropy', optimizer='sgd', metrics=['accuracy'])\n",
        "  elif nr_classes == 3:\n",
        "    model = net.build_resnet_18((128, 128, 60, 1), num_outputs=3)\n",
        "    model.compile(loss='categorical_crossentropy', optimizer='sgd', metrics=['accuracy'])\n",
        "\n",
        "  np.random.shuffle(train)\n",
        "  np.random.shuffle(test)\n",
        "\n",
        "  # train validation split\n",
        "  train_labels_list = [ labels[id] for id in train ] # labels\n",
        "  train_subject_id_list = [ subject_id[id] for id in train  ] # scan's subject ID\n",
        "\n",
        "  splitter = StratifiedGroupKFold(n_splits=7, shuffle=True, random_state=7)\n",
        "  train_val_split = splitter.split(train, train_labels_list, train_subject_id_list)\n",
        "  subtrain_indx, val_indx = next(train_val_split)\n",
        "\n",
        "  subtrain = [ train[index] for index in subtrain_indx ]\n",
        "  val = [ train[index] for index in val_indx ]\n",
        "\n",
        "  verify_proportions(labels, subtrain, val)\n",
        "\n",
        "  # generators\n",
        "  training_generator = DataGenerator(subtrain, labels, **params)\n",
        "  validation_generator = DataGenerator(val, labels, **params)\n",
        "  test_generator = DataGenerator(test, labels, **params_test)\n",
        "\n",
        "  # train\n",
        "  history = model.fit(training_generator, validation_data=validation_generator, epochs = 50, callbacks=[mc])\n",
        "  graph_accuracy_loss(history, iteration) # plot acc and loss for each epoch\n",
        "  print_avg_acc(history, 20)\n",
        "  print_acc_std_dev(history, 20)\n",
        "\n",
        "  # test\n",
        "  print(\"TEST -----------------------------------------\")\n",
        "  y_true = [labels[i] for i in test]\n",
        "  final_model.append(load_model('best_model.h5')) # load best model\n",
        "  y_pred = final_model[-1].predict(test_generator)\n",
        "  metrics(y_pred, y_true, test_metric, iteration)\n",
        "\n",
        "test_means = show_means_metrics(test_metric)\n",
        "\n",
        "end = time.time()\n",
        "elpased_time = end - start\n",
        "print(\"\\nExecution time \", timedelta(seconds=elpased_time))"
      ]
    },
    {
      "cell_type": "markdown",
      "source": [
        "# Save Model"
      ],
      "metadata": {
        "id": "GE5GRTOm3bok"
      }
    },
    {
      "cell_type": "markdown",
      "source": [
        "Save model"
      ],
      "metadata": {
        "id": "uGDlpnmvb8Ds"
      }
    },
    {
      "cell_type": "code",
      "source": [
        "# save the best model on the test data to Google Drive\n",
        "max_value = max(test_metric['acc'])\n",
        "max_index = test_metric['acc'].index(max_value)\n",
        "model = final_model[max_index]\n",
        "model.save(root_path+'/Saved_Models'+ model_name)"
      ],
      "metadata": {
        "id": "qcECoWyfslHj"
      },
      "execution_count": null,
      "outputs": []
    },
    {
      "cell_type": "markdown",
      "source": [
        "Save model metrics"
      ],
      "metadata": {
        "id": "-ITSGZA_b5HW"
      }
    },
    {
      "cell_type": "code",
      "source": [
        "with open(root_path+'/Models_metrics'+ model_name+'/test_metrics.json', 'w') as test_metrics_file:\n",
        "     test_metrics_file.write(json.dumps(test_metric))\n",
        "\n",
        "with open(root_path+'/Models_metrics'+ model_name+'/test_means.json', 'w') as test_means_file:\n",
        "     test_means_file.write(json.dumps(test_means))"
      ],
      "metadata": {
        "id": "TXDF2hTrZ5TN"
      },
      "execution_count": null,
      "outputs": []
    },
    {
      "cell_type": "markdown",
      "source": [
        "Save model summary"
      ],
      "metadata": {
        "id": "Y4CK4pNOKWsm"
      }
    },
    {
      "cell_type": "code",
      "source": [
        "with open(root_path+'/Models_metrics'+ model_name+'/model_summary.txt', 'w') as f:\n",
        "    with redirect_stdout(f):\n",
        "        model.summary()"
      ],
      "metadata": {
        "id": "lQNsy_dGZKOq"
      },
      "execution_count": null,
      "outputs": []
    },
    {
      "cell_type": "markdown",
      "source": [
        "Save model diagram"
      ],
      "metadata": {
        "id": "LA0IwNp7KYwQ"
      }
    },
    {
      "cell_type": "code",
      "source": [
        "plot_model(model, to_file=root_path+'/Models_metrics'+ model_name+'/plot_model.png', show_shapes=True, show_layer_names=True, show_layer_activations=True)"
      ],
      "metadata": {
        "id": "fPlAF11_3y8J"
      },
      "execution_count": null,
      "outputs": []
    },
    {
      "cell_type": "markdown",
      "source": [
        "# Visualization Saliency and Attention Maps"
      ],
      "metadata": {
        "id": "DIks7IwawPva"
      }
    },
    {
      "cell_type": "markdown",
      "source": [
        "#### Functions"
      ],
      "metadata": {
        "id": "G8xtR82EbhRl"
      }
    },
    {
      "cell_type": "markdown",
      "source": [
        "Plot a slice of a normalized PET scan "
      ],
      "metadata": {
        "id": "bFEMzyq-W_GP"
      }
    },
    {
      "cell_type": "code",
      "source": [
        "def show_normalized_scan(ID, slice_nr):\n",
        "  scan = np.load(root_path + '/PETs_numpy/normalized/' + str(ID) + '.npy')\n",
        "  show_scan_plot(scan, slice_nr)\n",
        "  plt.show()"
      ],
      "metadata": {
        "id": "AQ0DvdzGW-UE"
      },
      "execution_count": null,
      "outputs": []
    },
    {
      "cell_type": "markdown",
      "source": [
        "Plot a slice of a not normalized PET scan"
      ],
      "metadata": {
        "id": "ggk3rE2jW1dH"
      }
    },
    {
      "cell_type": "code",
      "source": [
        "def show_not_normalized_scan(ID, slice_nr):\n",
        "  scan = np.load(root_path + '/PETs_numpy/not_normalized/' + str(ID) + '.npy')\n",
        "  show_scan_plot(scan, slice_nr)\n",
        "  plt.show()"
      ],
      "metadata": {
        "id": "VsLtb_fpWxIp"
      },
      "execution_count": null,
      "outputs": []
    },
    {
      "cell_type": "markdown",
      "source": [
        "Plot a slice of the saliency map of a PET scan"
      ],
      "metadata": {
        "id": "HXmBIOi2NMsh"
      }
    },
    {
      "cell_type": "code",
      "source": [
        "def show_scan_saliency_map(ID, slice_nr, type):\n",
        "  att_map = np.load(root_path + '/attention_maps/'+type+'/'+ str(ID) + '.npy')\n",
        "  show_scan_plot(att_map, slice_nr)\n",
        "  plt.clim(0,1)\n",
        "  plt.show()"
      ],
      "metadata": {
        "id": "p3PzQm1tw5nR"
      },
      "execution_count": null,
      "outputs": []
    },
    {
      "cell_type": "markdown",
      "source": [
        "Plot a slice of a PET scan with the saliency map created by the doctor on top"
      ],
      "metadata": {
        "id": "h4qrJcfYasDk"
      }
    },
    {
      "cell_type": "code",
      "source": [
        "def show_scan_saliency_map_ontop(ID, slice_nr, type):\n",
        "  scan = np.load(root_path + '/PETs_numpy/not_normalized/' + str(ID) + '.npy')\n",
        "  one_slice_2d = scan[:,:,slice_nr]\n",
        "  plt.imshow(one_slice_2d, cmap='gray', zorder=0)\n",
        "\n",
        "  att_map = np.load(root_path + '/attention_maps/'+type+'/'+ str(ID) + '.npy')\n",
        "  one_slice_2d = att_map[:,:,slice_nr]\n",
        "  plt.imshow(one_slice_2d, cmap='jet', alpha=0.4, zorder=10)\n",
        "  plt.clim(0,1)\n",
        "  plt.colorbar()\n",
        "  plt.show()"
      ],
      "metadata": {
        "id": "ooKU3Esqaj1g"
      },
      "execution_count": null,
      "outputs": []
    },
    {
      "cell_type": "markdown",
      "source": [
        "Plot a fixed saliency map"
      ],
      "metadata": {
        "id": "B9OilcAzXkhg"
      }
    },
    {
      "cell_type": "code",
      "source": [
        "def show_scan_fixed_saliency_map(slice_nr, type, target_classes):\n",
        "  c = \"\".join('_'+i for i in target_classes)\n",
        "\n",
        "  fix_att_map = np.load(root_path + '/attention_maps/Fixed_attention/'+type+ c + '.npy')\n",
        "  show_scan_plot(fix_att_map, slice_nr)\n",
        "  plt.show() "
      ],
      "metadata": {
        "id": "xVHzVh6yXL5-"
      },
      "execution_count": null,
      "outputs": []
    },
    {
      "cell_type": "markdown",
      "source": [
        "Plot a fixed saliency map on top of a slice of a PET scan"
      ],
      "metadata": {
        "id": "gEInwEb-bbXG"
      }
    },
    {
      "cell_type": "code",
      "source": [
        "def show_scan_fixed_saliency_map_ontop(slice_nr, type, target_classes):\n",
        "  # retrieve random scan\n",
        "  scan = np.load(root_path + '/PETs_numpy/not_normalized/' + str(25) + '.npy')\n",
        "  one_slice_2d = scan[:,:,slice_nr]\n",
        "  plt.imshow(one_slice_2d, cmap='gray', zorder=0)\n",
        "\n",
        "  c = \"\".join('_'+i for i in target_classes)\n",
        "  fix_att_map = np.load(root_path + '/attention_maps/Fixed_attention/'+type+ c + '.npy')\n",
        "  one_slice_2d = fix_att_map[:,:,slice_nr]\n",
        "  plt.imshow(one_slice_2d, cmap='jet', alpha=0.4, zorder=10)\n",
        "  plt.clim(0,1)\n",
        "  plt.colorbar()\n",
        "  plt.show()"
      ],
      "metadata": {
        "id": "2fAzGgVpbXp5"
      },
      "execution_count": null,
      "outputs": []
    },
    {
      "cell_type": "code",
      "source": [
        "def show_model_attention_map(ID, slice_nr, CNN_model, att_layer_nr):\n",
        "  x_test = np.zeros((1,128,128,64,1))\n",
        "  x_test[0,:,:,:,0] = np.load(root_path + '/PETs_numpy/normalized_with_64axial_slices/' + str(ID) + '.npy')\n",
        "\n",
        "  layer_name = 'att_'+str(att_layer_nr)\n",
        "  intermediate_layer_model = Model(inputs=CNN_model.input,\n",
        "                                        outputs=CNN_model.get_layer(layer_name).output)\n",
        "  intermediate_output = intermediate_layer_model(x_test)\n",
        "  #inter_out = np.where(intermediate_output[0,:,:,:,0] < 0, 0, intermediate_output[0,:,:,:,0])\n",
        "\n",
        "  size_1 = intermediate_output.shape[1]\n",
        "  size_2 = intermediate_output.shape[2]\n",
        "  size_3 = intermediate_output.shape[3]\n",
        "\n",
        "  print(\"Attention map with real dimensions\")\n",
        "  show_scan_plot(intermediate_output[0,:,:,:,0], int(slice_nr*size_3/64))\n",
        "  plt.clim(0,1)\n",
        "  plt.show()\n",
        "  print(np.amax(intermediate_output[0,:,:,:,0]))\n",
        "  print(np.amin(intermediate_output[0,:,:,:,0]))\n",
        "\n",
        "  print(\"Resized - Real dimensions of attention map \", size_1, size_2, size_3)\n",
        "\n",
        "  res = zoom(np.array(intermediate_output[0,:,:,:,0]), (128/size_1, 128/size_2, 64/size_3)) # determinar se este é o melhor resize\n",
        "  \n",
        "  one_slice_2d = res[:,:,slice_nr]\n",
        "  plt.imshow(one_slice_2d, cmap='jet')\n",
        "  plt.clim(0,1)\n",
        "  plt.colorbar()\n",
        "  plt.show()\n",
        "  print(np.amax(res))\n",
        "  print(np.amin(res))"
      ],
      "metadata": {
        "id": "UFgYOPFH1k9D"
      },
      "execution_count": null,
      "outputs": []
    },
    {
      "cell_type": "markdown",
      "source": [
        "Scan with the attention map created by the model on top"
      ],
      "metadata": {
        "id": "vxCZmFvpY9rR"
      }
    },
    {
      "cell_type": "code",
      "source": [
        "def show_scan_model_attention_ontop(ID, slice_nr, CNN_model, att_layer_nr):\n",
        "  scan = np.load(root_path + '/PETs_numpy/not_normalized/' + str(ID) + '.npy')\n",
        "  one_slice_2d = scan[:,:,slice_nr]\n",
        "  plt.imshow(one_slice_2d, cmap='gray', zorder=0)\n",
        "\n",
        "  x_test = np.zeros((1,128,128,64,1))\n",
        "  x_test[0,:,:,:,0] = np.load(root_path + '/PETs_numpy/normalized_with_64axial_slices/' + str(ID) + '.npy')\n",
        "\n",
        "  layer_name = 'att_'+str(att_layer_nr)\n",
        "  intermediate_layer_model = Model(inputs=CNN_model.input,\n",
        "                                        outputs=CNN_model.get_layer(layer_name).output)\n",
        "  intermediate_output = intermediate_layer_model(x_test)\n",
        "\n",
        "  size_1 = intermediate_output.shape[1]\n",
        "  size_2 = intermediate_output.shape[2]\n",
        "  size_3 = intermediate_output.shape[3]\n",
        "  print(\"Real dimensions of attention map \", size_1, size_2, size_3)\n",
        "\n",
        "  res = zoom(np.array(intermediate_output[0,:,:,:,0]), (128/size_1, 128/size_2, 64/size_3)) # determinar se este é o melhor resize\n",
        "\n",
        "  one_slice_2d = res[:,:,slice_nr]\n",
        "  plt.imshow(one_slice_2d, cmap='jet', alpha=0.4, zorder=10)\n",
        "  plt.clim(0,1)\n",
        "  plt.colorbar()\n",
        "  plt.show()"
      ],
      "metadata": {
        "id": "k2vCwyjXsALC"
      },
      "execution_count": null,
      "outputs": []
    },
    {
      "cell_type": "markdown",
      "source": [
        "Return the row index of a scan in its dataframe given the scan ID"
      ],
      "metadata": {
        "id": "Hg7N1R0zWN0S"
      }
    },
    {
      "cell_type": "code",
      "source": [
        "def get_scan_index_in_Dataframe(allData1, allData2, allData3, scan_id):\n",
        "  value1 = allData1.index[allData1['Scan ID'] == scan_id]\n",
        "  value2 = allData2.index[allData2['Scan ID'] == scan_id]\n",
        "  value3 = allData3.index[allData3['Scan ID'] == scan_id]\n",
        "  print(value1, value2, value3)\n",
        "  if len(value1) == 1:\n",
        "    return value1[0]\n",
        "  elif len(value2) == 1:\n",
        "    return value2[0]\n",
        "  elif len(value3) == 1:\n",
        "    return value3[0]\n",
        "  else:\n",
        "    raise Exception(\"Sorry, there is no scan with that ID\")"
      ],
      "metadata": {
        "id": "8uxUcHBSPGPG"
      },
      "execution_count": null,
      "outputs": []
    },
    {
      "cell_type": "markdown",
      "source": [
        "#### Examples Plots"
      ],
      "metadata": {
        "id": "gcrkm2KwbnqH"
      }
    },
    {
      "cell_type": "code",
      "source": [
        "model1 = load_model(root_path+'/Saved_Models/'+ model_name)"
      ],
      "metadata": {
        "id": "fYublSN4qkeF"
      },
      "execution_count": null,
      "outputs": []
    },
    {
      "cell_type": "markdown",
      "source": [
        "Load Dataframes"
      ],
      "metadata": {
        "id": "2qcgDq3Cyg6R"
      }
    },
    {
      "cell_type": "code",
      "source": [
        "nc_allData = pd.read_pickle(\"/content/drive/My Drive/dataset/pandas_dataframes/nc_allData.pkl\")\n",
        "mci_allData = pd.read_pickle(\"/content/drive/My Drive/dataset/pandas_dataframes/mci_allData.pkl\")\n",
        "ad_allData = pd.read_pickle(\"/content/drive/My Drive/dataset/pandas_dataframes/ad_allData.pkl\")"
      ],
      "metadata": {
        "id": "8J4kFKkRygKG"
      },
      "execution_count": null,
      "outputs": []
    },
    {
      "cell_type": "markdown",
      "source": [
        "Plots"
      ],
      "metadata": {
        "id": "u56R06_rsn0Y"
      }
    },
    {
      "cell_type": "code",
      "source": [
        "ID = 441\n",
        "slice_nr = 25\n",
        "type = \"Location_based\"\n",
        "target_classes = ['AD']\n",
        "index = get_scan_index_in_Dataframe(nc_allData, mci_allData, ad_allData, ID)\n",
        "#show_normalized_scan(ID, slice_nr)\n",
        "# show_not_normalized_scan(ID, slice_nr)\n",
        "show_scan_with_fixations(ad_allData, slice_nr=slice_nr, scan_index=index, save=\"not save\")\n",
        "plt.show()\n",
        "show_scan_saliency_map(ID, slice_nr, type)\n",
        "# show_scan_saliency_map_ontop(ID, slice_nr, type)\n",
        "show_scan_fixed_saliency_map(slice_nr, type, target_classes)\n",
        "# show_scan_fixed_saliency_map_ontop(slice_nr, type, target_classes)\n",
        "show_model_attention_map(ID, slice_nr, model1, 0)\n",
        "# show_scan_model_attention_ontop(ID, slice_nr, model1, 0)\n",
        "# show_model_attention_map(ID, slice_nr, model1, 1)\n",
        "# show_scan_model_attention_ontop(ID, slice_nr, model1, 1)\n",
        "# show_model_attention_map(ID, slice_nr, model1, 7)\n",
        "# show_scan_model_attention_ontop(ID, slice_nr, model1, 7)"
      ],
      "metadata": {
        "id": "70bmMhD2yKn3"
      },
      "execution_count": null,
      "outputs": []
    }
  ],
  "metadata": {
    "accelerator": "GPU",
    "colab": {
      "collapsed_sections": [
        "lJOYzMvBQ3lZ",
        "5HYntZ16MApn",
        "lok_sHRz4kDz",
        "Rj5LXtMvm2vk",
        "Z_5dmmdZaYTb",
        "g8qEidKDQ7nf",
        "sT0QCACvqeGx",
        "WrLT6YxmZ-9n",
        "G8xtR82EbhRl"
      ],
      "provenance": [],
      "background_execution": "on",
      "toc_visible": true,
      "include_colab_link": true
    },
    "kernelspec": {
      "display_name": "Python 3",
      "name": "python3"
    },
    "language_info": {
      "name": "python"
    }
  },
  "nbformat": 4,
  "nbformat_minor": 0
}
